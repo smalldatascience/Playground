{
 "cells": [
  {
   "cell_type": "code",
   "execution_count": null,
   "id": "2774a409",
   "metadata": {},
   "outputs": [],
   "source": [
    "<img src=\"pictures/animated_x_outlier_lm.gif\" width=\"750\" align=\"center\">"
   ]
  }
 ],
 "metadata": {
  "kernelspec": {
   "display_name": "R",
   "language": "R",
   "name": "ir"
  },
  "language_info": {
   "codemirror_mode": "r",
   "file_extension": ".r",
   "mimetype": "text/x-r-source",
   "name": "R",
   "pygments_lexer": "r",
   "version": "3.6.1"
  }
 },
 "nbformat": 4,
 "nbformat_minor": 5
}
