{
 "cells": [
  {
   "cell_type": "markdown",
   "metadata": {},
   "source": [
    "# R for Beginners\n",
    "\n",
    "### Fabian Pribahsnik und Dietmar Hareter \n",
    "### 08.11.2021\n",
    "\n",
    "***\n",
    "\n",
    "Zunächst werden alle benötigten *Pakete* (Package, Erweiterungen) geladen."
   ]
  },
  {
   "cell_type": "code",
   "execution_count": 1,
   "metadata": {},
   "outputs": [
    {
     "name": "stderr",
     "output_type": "stream",
     "text": [
      "-- \u001b[1mAttaching packages\u001b[22m ------------------------------------------------------------------------------- tidyverse 1.3.1 --\n",
      "\n",
      "\u001b[32mv\u001b[39m \u001b[34mggplot2\u001b[39m 3.3.5     \u001b[32mv\u001b[39m \u001b[34mpurrr  \u001b[39m 0.3.4\n",
      "\u001b[32mv\u001b[39m \u001b[34mtibble \u001b[39m 3.1.5     \u001b[32mv\u001b[39m \u001b[34mdplyr  \u001b[39m 1.0.7\n",
      "\u001b[32mv\u001b[39m \u001b[34mtidyr  \u001b[39m 1.1.4     \u001b[32mv\u001b[39m \u001b[34mstringr\u001b[39m 1.4.0\n",
      "\u001b[32mv\u001b[39m \u001b[34mreadr  \u001b[39m 2.0.2     \u001b[32mv\u001b[39m \u001b[34mforcats\u001b[39m 0.5.1\n",
      "\n",
      "-- \u001b[1mConflicts\u001b[22m ---------------------------------------------------------------------------------- tidyverse_conflicts() --\n",
      "\u001b[31mx\u001b[39m \u001b[34mdplyr\u001b[39m::\u001b[32mfilter()\u001b[39m masks \u001b[34mstats\u001b[39m::filter()\n",
      "\u001b[31mx\u001b[39m \u001b[34mdplyr\u001b[39m::\u001b[32mlag()\u001b[39m    masks \u001b[34mstats\u001b[39m::lag()\n",
      "\n",
      "\n",
      "Attache Paket: 'data.table'\n",
      "\n",
      "\n",
      "Die folgenden Objekte sind maskiert von 'package:dplyr':\n",
      "\n",
      "    between, first, last\n",
      "\n",
      "\n",
      "Das folgende Objekt ist maskiert 'package:purrr':\n",
      "\n",
      "    transpose\n",
      "\n",
      "\n"
     ]
    }
   ],
   "source": [
    "library(tidyverse) # Installiert die wichtigsten Packages für \"Tidyverse\"\n",
    "library(data.table)"
   ]
  },
  {
   "cell_type": "markdown",
   "metadata": {},
   "source": [
    "Das Package `datasets` enthät eine große Anzahl von Datensätzen, die zum Üben verwendet werden können:"
   ]
  },
  {
   "cell_type": "code",
   "execution_count": 2,
   "metadata": {},
   "outputs": [],
   "source": [
    "library(help = \"datasets\")"
   ]
  },
  {
   "cell_type": "markdown",
   "metadata": {},
   "source": [
    "Ein Datensatz, der häufig zu Trainingzwecken herangezogen werden ist `mtcars`. Dieser Datensatz ist beim Start von *R* bereits geladen und kann direkt angesprochen werden.\n",
    "\n",
    "Für die Einlese von Daten gibt es viele Funktionen. Die Standardfunktionen sind `read.table` und `read.csv`."
   ]
  },
  {
   "cell_type": "code",
   "execution_count": 3,
   "metadata": {},
   "outputs": [
    {
     "data": {
      "text/html": [
       "<table class=\"dataframe\">\n",
       "<caption>A data.frame: 5 × 11</caption>\n",
       "<thead>\n",
       "\t<tr><th></th><th scope=col>mpg</th><th scope=col>cyl</th><th scope=col>disp</th><th scope=col>hp</th><th scope=col>drat</th><th scope=col>wt</th><th scope=col>qsec</th><th scope=col>vs</th><th scope=col>am</th><th scope=col>gear</th><th scope=col>carb</th></tr>\n",
       "\t<tr><th></th><th scope=col>&lt;dbl&gt;</th><th scope=col>&lt;int&gt;</th><th scope=col>&lt;dbl&gt;</th><th scope=col>&lt;int&gt;</th><th scope=col>&lt;dbl&gt;</th><th scope=col>&lt;dbl&gt;</th><th scope=col>&lt;dbl&gt;</th><th scope=col>&lt;int&gt;</th><th scope=col>&lt;int&gt;</th><th scope=col>&lt;int&gt;</th><th scope=col>&lt;int&gt;</th></tr>\n",
       "</thead>\n",
       "<tbody>\n",
       "\t<tr><th scope=row>Mazda RX4</th><td>21.0</td><td>6</td><td>160</td><td>110</td><td>3.90</td><td>2.620</td><td>16.46</td><td>0</td><td>1</td><td>4</td><td>4</td></tr>\n",
       "\t<tr><th scope=row>Mazda RX4 Wag</th><td>21.0</td><td>6</td><td>160</td><td>110</td><td>3.90</td><td>2.875</td><td>17.02</td><td>0</td><td>1</td><td>4</td><td>4</td></tr>\n",
       "\t<tr><th scope=row>Datsun 710</th><td>22.8</td><td>4</td><td>108</td><td> 93</td><td>3.85</td><td>2.320</td><td>18.61</td><td>1</td><td>1</td><td>4</td><td>1</td></tr>\n",
       "\t<tr><th scope=row>Hornet 4 Drive</th><td>21.4</td><td>6</td><td>258</td><td>110</td><td>3.08</td><td>3.215</td><td>19.44</td><td>1</td><td>0</td><td>3</td><td>1</td></tr>\n",
       "\t<tr><th scope=row>Hornet Sportabout</th><td>18.7</td><td>8</td><td>360</td><td>175</td><td>3.15</td><td>3.440</td><td>17.02</td><td>0</td><td>0</td><td>3</td><td>2</td></tr>\n",
       "</tbody>\n",
       "</table>\n"
      ],
      "text/latex": [
       "A data.frame: 5 × 11\n",
       "\\begin{tabular}{r|lllllllllll}\n",
       "  & mpg & cyl & disp & hp & drat & wt & qsec & vs & am & gear & carb\\\\\n",
       "  & <dbl> & <int> & <dbl> & <int> & <dbl> & <dbl> & <dbl> & <int> & <int> & <int> & <int>\\\\\n",
       "\\hline\n",
       "\tMazda RX4 & 21.0 & 6 & 160 & 110 & 3.90 & 2.620 & 16.46 & 0 & 1 & 4 & 4\\\\\n",
       "\tMazda RX4 Wag & 21.0 & 6 & 160 & 110 & 3.90 & 2.875 & 17.02 & 0 & 1 & 4 & 4\\\\\n",
       "\tDatsun 710 & 22.8 & 4 & 108 &  93 & 3.85 & 2.320 & 18.61 & 1 & 1 & 4 & 1\\\\\n",
       "\tHornet 4 Drive & 21.4 & 6 & 258 & 110 & 3.08 & 3.215 & 19.44 & 1 & 0 & 3 & 1\\\\\n",
       "\tHornet Sportabout & 18.7 & 8 & 360 & 175 & 3.15 & 3.440 & 17.02 & 0 & 0 & 3 & 2\\\\\n",
       "\\end{tabular}\n"
      ],
      "text/markdown": [
       "\n",
       "A data.frame: 5 × 11\n",
       "\n",
       "| <!--/--> | mpg &lt;dbl&gt; | cyl &lt;int&gt; | disp &lt;dbl&gt; | hp &lt;int&gt; | drat &lt;dbl&gt; | wt &lt;dbl&gt; | qsec &lt;dbl&gt; | vs &lt;int&gt; | am &lt;int&gt; | gear &lt;int&gt; | carb &lt;int&gt; |\n",
       "|---|---|---|---|---|---|---|---|---|---|---|---|\n",
       "| Mazda RX4 | 21.0 | 6 | 160 | 110 | 3.90 | 2.620 | 16.46 | 0 | 1 | 4 | 4 |\n",
       "| Mazda RX4 Wag | 21.0 | 6 | 160 | 110 | 3.90 | 2.875 | 17.02 | 0 | 1 | 4 | 4 |\n",
       "| Datsun 710 | 22.8 | 4 | 108 |  93 | 3.85 | 2.320 | 18.61 | 1 | 1 | 4 | 1 |\n",
       "| Hornet 4 Drive | 21.4 | 6 | 258 | 110 | 3.08 | 3.215 | 19.44 | 1 | 0 | 3 | 1 |\n",
       "| Hornet Sportabout | 18.7 | 8 | 360 | 175 | 3.15 | 3.440 | 17.02 | 0 | 0 | 3 | 2 |\n",
       "\n"
      ],
      "text/plain": [
       "                  mpg  cyl disp hp  drat wt    qsec  vs am gear carb\n",
       "Mazda RX4         21.0 6   160  110 3.90 2.620 16.46 0  1  4    4   \n",
       "Mazda RX4 Wag     21.0 6   160  110 3.90 2.875 17.02 0  1  4    4   \n",
       "Datsun 710        22.8 4   108   93 3.85 2.320 18.61 1  1  4    1   \n",
       "Hornet 4 Drive    21.4 6   258  110 3.08 3.215 19.44 1  0  3    1   \n",
       "Hornet Sportabout 18.7 8   360  175 3.15 3.440 17.02 0  0  3    2   "
      ]
     },
     "metadata": {},
     "output_type": "display_data"
    }
   ],
   "source": [
    "Testdaten <- read.table(file = \"Daten/Testdaten.csv\", header = TRUE, sep = \";\", dec = \",\")\n",
    "Testdaten[1:5,]"
   ]
  },
  {
   "cell_type": "markdown",
   "metadata": {},
   "source": [
    "Für große Datensätze ist die Funktion `fread` aus dem Paket `data.table` empfehlenswert, da die Einlese parallel erfolgt."
   ]
  },
  {
   "cell_type": "markdown",
   "metadata": {},
   "source": [
    "### Erste Analysen und Bereinigung der Daten:\n",
    "\n",
    "Im ersten Schritt sollen zunächst die Daten grob analysiert und auf Datenfehler untersucht werden."
   ]
  },
  {
   "cell_type": "code",
   "execution_count": 4,
   "metadata": {},
   "outputs": [
    {
     "data": {
      "text/html": [
       "<table class=\"dataframe\">\n",
       "<caption>A data.frame: 10 × 11</caption>\n",
       "<thead>\n",
       "\t<tr><th></th><th scope=col>mpg</th><th scope=col>cyl</th><th scope=col>disp</th><th scope=col>hp</th><th scope=col>drat</th><th scope=col>wt</th><th scope=col>qsec</th><th scope=col>vs</th><th scope=col>am</th><th scope=col>gear</th><th scope=col>carb</th></tr>\n",
       "\t<tr><th></th><th scope=col>&lt;dbl&gt;</th><th scope=col>&lt;dbl&gt;</th><th scope=col>&lt;dbl&gt;</th><th scope=col>&lt;dbl&gt;</th><th scope=col>&lt;dbl&gt;</th><th scope=col>&lt;dbl&gt;</th><th scope=col>&lt;dbl&gt;</th><th scope=col>&lt;dbl&gt;</th><th scope=col>&lt;dbl&gt;</th><th scope=col>&lt;dbl&gt;</th><th scope=col>&lt;dbl&gt;</th></tr>\n",
       "</thead>\n",
       "<tbody>\n",
       "\t<tr><th scope=row>Mazda RX4</th><td>21.0</td><td>6</td><td>160.0</td><td>110</td><td>3.90</td><td>2.620</td><td>16.46</td><td>0</td><td>1</td><td>4</td><td>4</td></tr>\n",
       "\t<tr><th scope=row>Mazda RX4 Wag</th><td>21.0</td><td>6</td><td>160.0</td><td>110</td><td>3.90</td><td>2.875</td><td>17.02</td><td>0</td><td>1</td><td>4</td><td>4</td></tr>\n",
       "\t<tr><th scope=row>Datsun 710</th><td>22.8</td><td>4</td><td>108.0</td><td> 93</td><td>3.85</td><td>2.320</td><td>18.61</td><td>1</td><td>1</td><td>4</td><td>1</td></tr>\n",
       "\t<tr><th scope=row>Hornet 4 Drive</th><td>21.4</td><td>6</td><td>258.0</td><td>110</td><td>3.08</td><td>3.215</td><td>19.44</td><td>1</td><td>0</td><td>3</td><td>1</td></tr>\n",
       "\t<tr><th scope=row>Hornet Sportabout</th><td>18.7</td><td>8</td><td>360.0</td><td>175</td><td>3.15</td><td>3.440</td><td>17.02</td><td>0</td><td>0</td><td>3</td><td>2</td></tr>\n",
       "\t<tr><th scope=row>Valiant</th><td>18.1</td><td>6</td><td>225.0</td><td>105</td><td>2.76</td><td>3.460</td><td>20.22</td><td>1</td><td>0</td><td>3</td><td>1</td></tr>\n",
       "\t<tr><th scope=row>Duster 360</th><td>14.3</td><td>8</td><td>360.0</td><td>245</td><td>3.21</td><td>3.570</td><td>15.84</td><td>0</td><td>0</td><td>3</td><td>4</td></tr>\n",
       "\t<tr><th scope=row>Merc 240D</th><td>24.4</td><td>4</td><td>146.7</td><td> 62</td><td>3.69</td><td>3.190</td><td>20.00</td><td>1</td><td>0</td><td>4</td><td>2</td></tr>\n",
       "\t<tr><th scope=row>Merc 230</th><td>22.8</td><td>4</td><td>140.8</td><td> 95</td><td>3.92</td><td>3.150</td><td>22.90</td><td>1</td><td>0</td><td>4</td><td>2</td></tr>\n",
       "\t<tr><th scope=row>Merc 280</th><td>19.2</td><td>6</td><td>167.6</td><td>123</td><td>3.92</td><td>3.440</td><td>18.30</td><td>1</td><td>0</td><td>4</td><td>4</td></tr>\n",
       "</tbody>\n",
       "</table>\n"
      ],
      "text/latex": [
       "A data.frame: 10 × 11\n",
       "\\begin{tabular}{r|lllllllllll}\n",
       "  & mpg & cyl & disp & hp & drat & wt & qsec & vs & am & gear & carb\\\\\n",
       "  & <dbl> & <dbl> & <dbl> & <dbl> & <dbl> & <dbl> & <dbl> & <dbl> & <dbl> & <dbl> & <dbl>\\\\\n",
       "\\hline\n",
       "\tMazda RX4 & 21.0 & 6 & 160.0 & 110 & 3.90 & 2.620 & 16.46 & 0 & 1 & 4 & 4\\\\\n",
       "\tMazda RX4 Wag & 21.0 & 6 & 160.0 & 110 & 3.90 & 2.875 & 17.02 & 0 & 1 & 4 & 4\\\\\n",
       "\tDatsun 710 & 22.8 & 4 & 108.0 &  93 & 3.85 & 2.320 & 18.61 & 1 & 1 & 4 & 1\\\\\n",
       "\tHornet 4 Drive & 21.4 & 6 & 258.0 & 110 & 3.08 & 3.215 & 19.44 & 1 & 0 & 3 & 1\\\\\n",
       "\tHornet Sportabout & 18.7 & 8 & 360.0 & 175 & 3.15 & 3.440 & 17.02 & 0 & 0 & 3 & 2\\\\\n",
       "\tValiant & 18.1 & 6 & 225.0 & 105 & 2.76 & 3.460 & 20.22 & 1 & 0 & 3 & 1\\\\\n",
       "\tDuster 360 & 14.3 & 8 & 360.0 & 245 & 3.21 & 3.570 & 15.84 & 0 & 0 & 3 & 4\\\\\n",
       "\tMerc 240D & 24.4 & 4 & 146.7 &  62 & 3.69 & 3.190 & 20.00 & 1 & 0 & 4 & 2\\\\\n",
       "\tMerc 230 & 22.8 & 4 & 140.8 &  95 & 3.92 & 3.150 & 22.90 & 1 & 0 & 4 & 2\\\\\n",
       "\tMerc 280 & 19.2 & 6 & 167.6 & 123 & 3.92 & 3.440 & 18.30 & 1 & 0 & 4 & 4\\\\\n",
       "\\end{tabular}\n"
      ],
      "text/markdown": [
       "\n",
       "A data.frame: 10 × 11\n",
       "\n",
       "| <!--/--> | mpg &lt;dbl&gt; | cyl &lt;dbl&gt; | disp &lt;dbl&gt; | hp &lt;dbl&gt; | drat &lt;dbl&gt; | wt &lt;dbl&gt; | qsec &lt;dbl&gt; | vs &lt;dbl&gt; | am &lt;dbl&gt; | gear &lt;dbl&gt; | carb &lt;dbl&gt; |\n",
       "|---|---|---|---|---|---|---|---|---|---|---|---|\n",
       "| Mazda RX4 | 21.0 | 6 | 160.0 | 110 | 3.90 | 2.620 | 16.46 | 0 | 1 | 4 | 4 |\n",
       "| Mazda RX4 Wag | 21.0 | 6 | 160.0 | 110 | 3.90 | 2.875 | 17.02 | 0 | 1 | 4 | 4 |\n",
       "| Datsun 710 | 22.8 | 4 | 108.0 |  93 | 3.85 | 2.320 | 18.61 | 1 | 1 | 4 | 1 |\n",
       "| Hornet 4 Drive | 21.4 | 6 | 258.0 | 110 | 3.08 | 3.215 | 19.44 | 1 | 0 | 3 | 1 |\n",
       "| Hornet Sportabout | 18.7 | 8 | 360.0 | 175 | 3.15 | 3.440 | 17.02 | 0 | 0 | 3 | 2 |\n",
       "| Valiant | 18.1 | 6 | 225.0 | 105 | 2.76 | 3.460 | 20.22 | 1 | 0 | 3 | 1 |\n",
       "| Duster 360 | 14.3 | 8 | 360.0 | 245 | 3.21 | 3.570 | 15.84 | 0 | 0 | 3 | 4 |\n",
       "| Merc 240D | 24.4 | 4 | 146.7 |  62 | 3.69 | 3.190 | 20.00 | 1 | 0 | 4 | 2 |\n",
       "| Merc 230 | 22.8 | 4 | 140.8 |  95 | 3.92 | 3.150 | 22.90 | 1 | 0 | 4 | 2 |\n",
       "| Merc 280 | 19.2 | 6 | 167.6 | 123 | 3.92 | 3.440 | 18.30 | 1 | 0 | 4 | 4 |\n",
       "\n"
      ],
      "text/plain": [
       "                  mpg  cyl disp  hp  drat wt    qsec  vs am gear carb\n",
       "Mazda RX4         21.0 6   160.0 110 3.90 2.620 16.46 0  1  4    4   \n",
       "Mazda RX4 Wag     21.0 6   160.0 110 3.90 2.875 17.02 0  1  4    4   \n",
       "Datsun 710        22.8 4   108.0  93 3.85 2.320 18.61 1  1  4    1   \n",
       "Hornet 4 Drive    21.4 6   258.0 110 3.08 3.215 19.44 1  0  3    1   \n",
       "Hornet Sportabout 18.7 8   360.0 175 3.15 3.440 17.02 0  0  3    2   \n",
       "Valiant           18.1 6   225.0 105 2.76 3.460 20.22 1  0  3    1   \n",
       "Duster 360        14.3 8   360.0 245 3.21 3.570 15.84 0  0  3    4   \n",
       "Merc 240D         24.4 4   146.7  62 3.69 3.190 20.00 1  0  4    2   \n",
       "Merc 230          22.8 4   140.8  95 3.92 3.150 22.90 1  0  4    2   \n",
       "Merc 280          19.2 6   167.6 123 3.92 3.440 18.30 1  0  4    4   "
      ]
     },
     "metadata": {},
     "output_type": "display_data"
    }
   ],
   "source": [
    "head(mtcars, n = 10) # Anzeige der ersten Einträge im Datensatz"
   ]
  },
  {
   "cell_type": "code",
   "execution_count": 5,
   "metadata": {},
   "outputs": [
    {
     "data": {
      "text/html": [
       "<table class=\"dataframe\">\n",
       "<caption>A data.frame: 10 × 11</caption>\n",
       "<thead>\n",
       "\t<tr><th></th><th scope=col>mpg</th><th scope=col>cyl</th><th scope=col>disp</th><th scope=col>hp</th><th scope=col>drat</th><th scope=col>wt</th><th scope=col>qsec</th><th scope=col>vs</th><th scope=col>am</th><th scope=col>gear</th><th scope=col>carb</th></tr>\n",
       "\t<tr><th></th><th scope=col>&lt;dbl&gt;</th><th scope=col>&lt;dbl&gt;</th><th scope=col>&lt;dbl&gt;</th><th scope=col>&lt;dbl&gt;</th><th scope=col>&lt;dbl&gt;</th><th scope=col>&lt;dbl&gt;</th><th scope=col>&lt;dbl&gt;</th><th scope=col>&lt;dbl&gt;</th><th scope=col>&lt;dbl&gt;</th><th scope=col>&lt;dbl&gt;</th><th scope=col>&lt;dbl&gt;</th></tr>\n",
       "</thead>\n",
       "<tbody>\n",
       "\t<tr><th scope=row>AMC Javelin</th><td>15.2</td><td>8</td><td>304.0</td><td>150</td><td>3.15</td><td>3.435</td><td>17.30</td><td>0</td><td>0</td><td>3</td><td>2</td></tr>\n",
       "\t<tr><th scope=row>Camaro Z28</th><td>13.3</td><td>8</td><td>350.0</td><td>245</td><td>3.73</td><td>3.840</td><td>15.41</td><td>0</td><td>0</td><td>3</td><td>4</td></tr>\n",
       "\t<tr><th scope=row>Pontiac Firebird</th><td>19.2</td><td>8</td><td>400.0</td><td>175</td><td>3.08</td><td>3.845</td><td>17.05</td><td>0</td><td>0</td><td>3</td><td>2</td></tr>\n",
       "\t<tr><th scope=row>Fiat X1-9</th><td>27.3</td><td>4</td><td> 79.0</td><td> 66</td><td>4.08</td><td>1.935</td><td>18.90</td><td>1</td><td>1</td><td>4</td><td>1</td></tr>\n",
       "\t<tr><th scope=row>Porsche 914-2</th><td>26.0</td><td>4</td><td>120.3</td><td> 91</td><td>4.43</td><td>2.140</td><td>16.70</td><td>0</td><td>1</td><td>5</td><td>2</td></tr>\n",
       "\t<tr><th scope=row>Lotus Europa</th><td>30.4</td><td>4</td><td> 95.1</td><td>113</td><td>3.77</td><td>1.513</td><td>16.90</td><td>1</td><td>1</td><td>5</td><td>2</td></tr>\n",
       "\t<tr><th scope=row>Ford Pantera L</th><td>15.8</td><td>8</td><td>351.0</td><td>264</td><td>4.22</td><td>3.170</td><td>14.50</td><td>0</td><td>1</td><td>5</td><td>4</td></tr>\n",
       "\t<tr><th scope=row>Ferrari Dino</th><td>19.7</td><td>6</td><td>145.0</td><td>175</td><td>3.62</td><td>2.770</td><td>15.50</td><td>0</td><td>1</td><td>5</td><td>6</td></tr>\n",
       "\t<tr><th scope=row>Maserati Bora</th><td>15.0</td><td>8</td><td>301.0</td><td>335</td><td>3.54</td><td>3.570</td><td>14.60</td><td>0</td><td>1</td><td>5</td><td>8</td></tr>\n",
       "\t<tr><th scope=row>Volvo 142E</th><td>21.4</td><td>4</td><td>121.0</td><td>109</td><td>4.11</td><td>2.780</td><td>18.60</td><td>1</td><td>1</td><td>4</td><td>2</td></tr>\n",
       "</tbody>\n",
       "</table>\n"
      ],
      "text/latex": [
       "A data.frame: 10 × 11\n",
       "\\begin{tabular}{r|lllllllllll}\n",
       "  & mpg & cyl & disp & hp & drat & wt & qsec & vs & am & gear & carb\\\\\n",
       "  & <dbl> & <dbl> & <dbl> & <dbl> & <dbl> & <dbl> & <dbl> & <dbl> & <dbl> & <dbl> & <dbl>\\\\\n",
       "\\hline\n",
       "\tAMC Javelin & 15.2 & 8 & 304.0 & 150 & 3.15 & 3.435 & 17.30 & 0 & 0 & 3 & 2\\\\\n",
       "\tCamaro Z28 & 13.3 & 8 & 350.0 & 245 & 3.73 & 3.840 & 15.41 & 0 & 0 & 3 & 4\\\\\n",
       "\tPontiac Firebird & 19.2 & 8 & 400.0 & 175 & 3.08 & 3.845 & 17.05 & 0 & 0 & 3 & 2\\\\\n",
       "\tFiat X1-9 & 27.3 & 4 &  79.0 &  66 & 4.08 & 1.935 & 18.90 & 1 & 1 & 4 & 1\\\\\n",
       "\tPorsche 914-2 & 26.0 & 4 & 120.3 &  91 & 4.43 & 2.140 & 16.70 & 0 & 1 & 5 & 2\\\\\n",
       "\tLotus Europa & 30.4 & 4 &  95.1 & 113 & 3.77 & 1.513 & 16.90 & 1 & 1 & 5 & 2\\\\\n",
       "\tFord Pantera L & 15.8 & 8 & 351.0 & 264 & 4.22 & 3.170 & 14.50 & 0 & 1 & 5 & 4\\\\\n",
       "\tFerrari Dino & 19.7 & 6 & 145.0 & 175 & 3.62 & 2.770 & 15.50 & 0 & 1 & 5 & 6\\\\\n",
       "\tMaserati Bora & 15.0 & 8 & 301.0 & 335 & 3.54 & 3.570 & 14.60 & 0 & 1 & 5 & 8\\\\\n",
       "\tVolvo 142E & 21.4 & 4 & 121.0 & 109 & 4.11 & 2.780 & 18.60 & 1 & 1 & 4 & 2\\\\\n",
       "\\end{tabular}\n"
      ],
      "text/markdown": [
       "\n",
       "A data.frame: 10 × 11\n",
       "\n",
       "| <!--/--> | mpg &lt;dbl&gt; | cyl &lt;dbl&gt; | disp &lt;dbl&gt; | hp &lt;dbl&gt; | drat &lt;dbl&gt; | wt &lt;dbl&gt; | qsec &lt;dbl&gt; | vs &lt;dbl&gt; | am &lt;dbl&gt; | gear &lt;dbl&gt; | carb &lt;dbl&gt; |\n",
       "|---|---|---|---|---|---|---|---|---|---|---|---|\n",
       "| AMC Javelin | 15.2 | 8 | 304.0 | 150 | 3.15 | 3.435 | 17.30 | 0 | 0 | 3 | 2 |\n",
       "| Camaro Z28 | 13.3 | 8 | 350.0 | 245 | 3.73 | 3.840 | 15.41 | 0 | 0 | 3 | 4 |\n",
       "| Pontiac Firebird | 19.2 | 8 | 400.0 | 175 | 3.08 | 3.845 | 17.05 | 0 | 0 | 3 | 2 |\n",
       "| Fiat X1-9 | 27.3 | 4 |  79.0 |  66 | 4.08 | 1.935 | 18.90 | 1 | 1 | 4 | 1 |\n",
       "| Porsche 914-2 | 26.0 | 4 | 120.3 |  91 | 4.43 | 2.140 | 16.70 | 0 | 1 | 5 | 2 |\n",
       "| Lotus Europa | 30.4 | 4 |  95.1 | 113 | 3.77 | 1.513 | 16.90 | 1 | 1 | 5 | 2 |\n",
       "| Ford Pantera L | 15.8 | 8 | 351.0 | 264 | 4.22 | 3.170 | 14.50 | 0 | 1 | 5 | 4 |\n",
       "| Ferrari Dino | 19.7 | 6 | 145.0 | 175 | 3.62 | 2.770 | 15.50 | 0 | 1 | 5 | 6 |\n",
       "| Maserati Bora | 15.0 | 8 | 301.0 | 335 | 3.54 | 3.570 | 14.60 | 0 | 1 | 5 | 8 |\n",
       "| Volvo 142E | 21.4 | 4 | 121.0 | 109 | 4.11 | 2.780 | 18.60 | 1 | 1 | 4 | 2 |\n",
       "\n"
      ],
      "text/plain": [
       "                 mpg  cyl disp  hp  drat wt    qsec  vs am gear carb\n",
       "AMC Javelin      15.2 8   304.0 150 3.15 3.435 17.30 0  0  3    2   \n",
       "Camaro Z28       13.3 8   350.0 245 3.73 3.840 15.41 0  0  3    4   \n",
       "Pontiac Firebird 19.2 8   400.0 175 3.08 3.845 17.05 0  0  3    2   \n",
       "Fiat X1-9        27.3 4    79.0  66 4.08 1.935 18.90 1  1  4    1   \n",
       "Porsche 914-2    26.0 4   120.3  91 4.43 2.140 16.70 0  1  5    2   \n",
       "Lotus Europa     30.4 4    95.1 113 3.77 1.513 16.90 1  1  5    2   \n",
       "Ford Pantera L   15.8 8   351.0 264 4.22 3.170 14.50 0  1  5    4   \n",
       "Ferrari Dino     19.7 6   145.0 175 3.62 2.770 15.50 0  1  5    6   \n",
       "Maserati Bora    15.0 8   301.0 335 3.54 3.570 14.60 0  1  5    8   \n",
       "Volvo 142E       21.4 4   121.0 109 4.11 2.780 18.60 1  1  4    2   "
      ]
     },
     "metadata": {},
     "output_type": "display_data"
    }
   ],
   "source": [
    "tail(mtcars, n = 10) # Anzeige der letzten Einträge im Datensatz"
   ]
  },
  {
   "cell_type": "markdown",
   "metadata": {},
   "source": [
    "Die Dimension der Daten (Zeilen- und Spaltenanzahl) kann mit der Funktion `dim()` abgefragt werden bzw. die Zeilenanzahl mit der Funktion `nrow()` und die Spaltenanzahl mit der Funktion `ncol()`."
   ]
  },
  {
   "cell_type": "code",
   "execution_count": 6,
   "metadata": {},
   "outputs": [
    {
     "data": {
      "text/html": [
       "<style>\n",
       ".list-inline {list-style: none; margin:0; padding: 0}\n",
       ".list-inline>li {display: inline-block}\n",
       ".list-inline>li:not(:last-child)::after {content: \"\\00b7\"; padding: 0 .5ex}\n",
       "</style>\n",
       "<ol class=list-inline><li>32</li><li>11</li></ol>\n"
      ],
      "text/latex": [
       "\\begin{enumerate*}\n",
       "\\item 32\n",
       "\\item 11\n",
       "\\end{enumerate*}\n"
      ],
      "text/markdown": [
       "1. 32\n",
       "2. 11\n",
       "\n",
       "\n"
      ],
      "text/plain": [
       "[1] 32 11"
      ]
     },
     "metadata": {},
     "output_type": "display_data"
    },
    {
     "data": {
      "text/html": [
       "32"
      ],
      "text/latex": [
       "32"
      ],
      "text/markdown": [
       "32"
      ],
      "text/plain": [
       "[1] 32"
      ]
     },
     "metadata": {},
     "output_type": "display_data"
    },
    {
     "data": {
      "text/html": [
       "11"
      ],
      "text/latex": [
       "11"
      ],
      "text/markdown": [
       "11"
      ],
      "text/plain": [
       "[1] 11"
      ]
     },
     "metadata": {},
     "output_type": "display_data"
    }
   ],
   "source": [
    "dim(mtcars)  # Dimension eines Datensatzes\n",
    "nrow(mtcars) # Anzahl der Zeilen in einem Datensatz\n",
    "ncol(mtcars) # Anzahl der Spalten in einem Datensatz"
   ]
  },
  {
   "cell_type": "markdown",
   "metadata": {},
   "source": [
    "Die Struktur der Daten kann mit der Funktion `str()` angezeigt werden.  \n",
    "In der Struktur wird die Dimension des Datensatzes sowie Informationen zu jeder Ausprägung (Name, Datentyp und die ersten Werte) angezeigt. "
   ]
  },
  {
   "cell_type": "code",
   "execution_count": 7,
   "metadata": {},
   "outputs": [
    {
     "name": "stdout",
     "output_type": "stream",
     "text": [
      "'data.frame':\t32 obs. of  11 variables:\n",
      " $ mpg : num  21 21 22.8 21.4 18.7 18.1 14.3 24.4 22.8 19.2 ...\n",
      " $ cyl : num  6 6 4 6 8 6 8 4 4 6 ...\n",
      " $ disp: num  160 160 108 258 360 ...\n",
      " $ hp  : num  110 110 93 110 175 105 245 62 95 123 ...\n",
      " $ drat: num  3.9 3.9 3.85 3.08 3.15 2.76 3.21 3.69 3.92 3.92 ...\n",
      " $ wt  : num  2.62 2.88 2.32 3.21 3.44 ...\n",
      " $ qsec: num  16.5 17 18.6 19.4 17 ...\n",
      " $ vs  : num  0 0 1 1 0 1 0 1 1 1 ...\n",
      " $ am  : num  1 1 1 0 0 0 0 0 0 0 ...\n",
      " $ gear: num  4 4 4 3 3 3 3 4 4 4 ...\n",
      " $ carb: num  4 4 1 1 2 1 4 2 2 4 ...\n"
     ]
    }
   ],
   "source": [
    "str(object = mtcars)"
   ]
  },
  {
   "cell_type": "markdown",
   "metadata": {},
   "source": [
    "**Hinweis:** Der Datensatz enthält 32 Beobachtungen mit jeweils 11 (numerische) Variablen.\n",
    "* `mpg`: Miles / (US) gallon (Reichweite)\n",
    "* `cyl`: Number of cylinders\n",
    "* `disp`: Displacement (Hubraum)\n",
    "* `hp`: Gross horsepower (PS)\n",
    "* `drat`: Rear axle ratio (Hinterachsenübersetzung)\n",
    "* `wt`: Weight in 1000 lbs (Gewicht)\n",
    "* `qsec`: 1/4 mile time (Beschleunigung)\n",
    "* `vs`: Engine (0 = V-shaped, 1 = straight)\n",
    "* `am`: Transmission (0 = automatic, 1 = manual)\n",
    "* `gear`: Number of forward gears (Anzahl der Gänge)\n",
    "* `carb`: Number of carburetors (Anzahl der Vergaser)"
   ]
  },
  {
   "cell_type": "markdown",
   "metadata": {},
   "source": [
    "Zunächst wird der Datensatz ein wenig aufbereitet, indem numerischen Variablen in Faktoren umgewandelt werden."
   ]
  },
  {
   "cell_type": "code",
   "execution_count": 8,
   "metadata": {},
   "outputs": [],
   "source": [
    "mtcars2 <- within(data = mtcars, {\n",
    "  vs <- factor(vs, labels = c(\"V-shaped\", \"Straight\"))\n",
    "  am <- factor(am, labels = c(\"Automatik\", \"Manuell\"))\n",
    "  cyl  <- factor(cyl)\n",
    "  gear <- factor(gear)\n",
    "  carb <- factor(carb)\n",
    "})\n",
    "colnames(mtcars2) <- c(\"Reichweite\", \"Anz_Zylinder\", \"Hubraum\", \"PS\", \"Hinterachse\", \"Gewicht\", \"Beschl.\", \n",
    "                       \"Motorart\", \"Getriebe\", \"Anz_Gänge\", \"Anz_Vergaser\")"
   ]
  },
  {
   "cell_type": "markdown",
   "metadata": {},
   "source": [
    "Die Änderungen sind auch in der Struktur ersichtlich."
   ]
  },
  {
   "cell_type": "code",
   "execution_count": 9,
   "metadata": {
    "scrolled": true
   },
   "outputs": [
    {
     "name": "stdout",
     "output_type": "stream",
     "text": [
      "'data.frame':\t32 obs. of  11 variables:\n",
      " $ Reichweite  : num  21 21 22.8 21.4 18.7 18.1 14.3 24.4 22.8 19.2 ...\n",
      " $ Anz_Zylinder: Factor w/ 3 levels \"4\",\"6\",\"8\": 2 2 1 2 3 2 3 1 1 2 ...\n",
      " $ Hubraum     : num  160 160 108 258 360 ...\n",
      " $ PS          : num  110 110 93 110 175 105 245 62 95 123 ...\n",
      " $ Hinterachse : num  3.9 3.9 3.85 3.08 3.15 2.76 3.21 3.69 3.92 3.92 ...\n",
      " $ Gewicht     : num  2.62 2.88 2.32 3.21 3.44 ...\n",
      " $ Beschl.     : num  16.5 17 18.6 19.4 17 ...\n",
      " $ Motorart    : Factor w/ 2 levels \"V-shaped\",\"Straight\": 1 1 2 2 1 2 1 2 2 2 ...\n",
      " $ Getriebe    : Factor w/ 2 levels \"Automatik\",\"Manuell\": 2 2 2 1 1 1 1 1 1 1 ...\n",
      " $ Anz_Gänge   : Factor w/ 3 levels \"3\",\"4\",\"5\": 2 2 2 1 1 1 1 2 2 2 ...\n",
      " $ Anz_Vergaser: Factor w/ 6 levels \"1\",\"2\",\"3\",\"4\",..: 4 4 1 1 2 1 4 2 2 4 ...\n"
     ]
    }
   ],
   "source": [
    "str(mtcars2)"
   ]
  },
  {
   "cell_type": "code",
   "execution_count": 10,
   "metadata": {},
   "outputs": [
    {
     "data": {
      "text/html": [
       "<table class=\"dataframe\">\n",
       "<caption>A data.frame: 6 × 11</caption>\n",
       "<thead>\n",
       "\t<tr><th></th><th scope=col>Reichweite</th><th scope=col>Anz_Zylinder</th><th scope=col>Hubraum</th><th scope=col>PS</th><th scope=col>Hinterachse</th><th scope=col>Gewicht</th><th scope=col>Beschl.</th><th scope=col>Motorart</th><th scope=col>Getriebe</th><th scope=col>Anz_Gänge</th><th scope=col>Anz_Vergaser</th></tr>\n",
       "\t<tr><th></th><th scope=col>&lt;dbl&gt;</th><th scope=col>&lt;fct&gt;</th><th scope=col>&lt;dbl&gt;</th><th scope=col>&lt;dbl&gt;</th><th scope=col>&lt;dbl&gt;</th><th scope=col>&lt;dbl&gt;</th><th scope=col>&lt;dbl&gt;</th><th scope=col>&lt;fct&gt;</th><th scope=col>&lt;fct&gt;</th><th scope=col>&lt;fct&gt;</th><th scope=col>&lt;fct&gt;</th></tr>\n",
       "</thead>\n",
       "<tbody>\n",
       "\t<tr><th scope=row>Mazda RX4</th><td>21.0</td><td>6</td><td>160</td><td>110</td><td>3.90</td><td>2.620</td><td>16.46</td><td>V-shaped</td><td>Manuell  </td><td>4</td><td>4</td></tr>\n",
       "\t<tr><th scope=row>Mazda RX4 Wag</th><td>21.0</td><td>6</td><td>160</td><td>110</td><td>3.90</td><td>2.875</td><td>17.02</td><td>V-shaped</td><td>Manuell  </td><td>4</td><td>4</td></tr>\n",
       "\t<tr><th scope=row>Datsun 710</th><td>22.8</td><td>4</td><td>108</td><td> 93</td><td>3.85</td><td>2.320</td><td>18.61</td><td>Straight</td><td>Manuell  </td><td>4</td><td>1</td></tr>\n",
       "\t<tr><th scope=row>Hornet 4 Drive</th><td>21.4</td><td>6</td><td>258</td><td>110</td><td>3.08</td><td>3.215</td><td>19.44</td><td>Straight</td><td>Automatik</td><td>3</td><td>1</td></tr>\n",
       "\t<tr><th scope=row>Hornet Sportabout</th><td>18.7</td><td>8</td><td>360</td><td>175</td><td>3.15</td><td>3.440</td><td>17.02</td><td>V-shaped</td><td>Automatik</td><td>3</td><td>2</td></tr>\n",
       "\t<tr><th scope=row>Valiant</th><td>18.1</td><td>6</td><td>225</td><td>105</td><td>2.76</td><td>3.460</td><td>20.22</td><td>Straight</td><td>Automatik</td><td>3</td><td>1</td></tr>\n",
       "</tbody>\n",
       "</table>\n"
      ],
      "text/latex": [
       "A data.frame: 6 × 11\n",
       "\\begin{tabular}{r|lllllllllll}\n",
       "  & Reichweite & Anz\\_Zylinder & Hubraum & PS & Hinterachse & Gewicht & Beschl. & Motorart & Getriebe & Anz\\_Gänge & Anz\\_Vergaser\\\\\n",
       "  & <dbl> & <fct> & <dbl> & <dbl> & <dbl> & <dbl> & <dbl> & <fct> & <fct> & <fct> & <fct>\\\\\n",
       "\\hline\n",
       "\tMazda RX4 & 21.0 & 6 & 160 & 110 & 3.90 & 2.620 & 16.46 & V-shaped & Manuell   & 4 & 4\\\\\n",
       "\tMazda RX4 Wag & 21.0 & 6 & 160 & 110 & 3.90 & 2.875 & 17.02 & V-shaped & Manuell   & 4 & 4\\\\\n",
       "\tDatsun 710 & 22.8 & 4 & 108 &  93 & 3.85 & 2.320 & 18.61 & Straight & Manuell   & 4 & 1\\\\\n",
       "\tHornet 4 Drive & 21.4 & 6 & 258 & 110 & 3.08 & 3.215 & 19.44 & Straight & Automatik & 3 & 1\\\\\n",
       "\tHornet Sportabout & 18.7 & 8 & 360 & 175 & 3.15 & 3.440 & 17.02 & V-shaped & Automatik & 3 & 2\\\\\n",
       "\tValiant & 18.1 & 6 & 225 & 105 & 2.76 & 3.460 & 20.22 & Straight & Automatik & 3 & 1\\\\\n",
       "\\end{tabular}\n"
      ],
      "text/markdown": [
       "\n",
       "A data.frame: 6 × 11\n",
       "\n",
       "| <!--/--> | Reichweite &lt;dbl&gt; | Anz_Zylinder &lt;fct&gt; | Hubraum &lt;dbl&gt; | PS &lt;dbl&gt; | Hinterachse &lt;dbl&gt; | Gewicht &lt;dbl&gt; | Beschl. &lt;dbl&gt; | Motorart &lt;fct&gt; | Getriebe &lt;fct&gt; | Anz_Gänge &lt;fct&gt; | Anz_Vergaser &lt;fct&gt; |\n",
       "|---|---|---|---|---|---|---|---|---|---|---|---|\n",
       "| Mazda RX4 | 21.0 | 6 | 160 | 110 | 3.90 | 2.620 | 16.46 | V-shaped | Manuell   | 4 | 4 |\n",
       "| Mazda RX4 Wag | 21.0 | 6 | 160 | 110 | 3.90 | 2.875 | 17.02 | V-shaped | Manuell   | 4 | 4 |\n",
       "| Datsun 710 | 22.8 | 4 | 108 |  93 | 3.85 | 2.320 | 18.61 | Straight | Manuell   | 4 | 1 |\n",
       "| Hornet 4 Drive | 21.4 | 6 | 258 | 110 | 3.08 | 3.215 | 19.44 | Straight | Automatik | 3 | 1 |\n",
       "| Hornet Sportabout | 18.7 | 8 | 360 | 175 | 3.15 | 3.440 | 17.02 | V-shaped | Automatik | 3 | 2 |\n",
       "| Valiant | 18.1 | 6 | 225 | 105 | 2.76 | 3.460 | 20.22 | Straight | Automatik | 3 | 1 |\n",
       "\n"
      ],
      "text/plain": [
       "                  Reichweite Anz_Zylinder Hubraum PS  Hinterachse Gewicht\n",
       "Mazda RX4         21.0       6            160     110 3.90        2.620  \n",
       "Mazda RX4 Wag     21.0       6            160     110 3.90        2.875  \n",
       "Datsun 710        22.8       4            108      93 3.85        2.320  \n",
       "Hornet 4 Drive    21.4       6            258     110 3.08        3.215  \n",
       "Hornet Sportabout 18.7       8            360     175 3.15        3.440  \n",
       "Valiant           18.1       6            225     105 2.76        3.460  \n",
       "                  Beschl. Motorart Getriebe  Anz_Gänge Anz_Vergaser\n",
       "Mazda RX4         16.46   V-shaped Manuell   4         4           \n",
       "Mazda RX4 Wag     17.02   V-shaped Manuell   4         4           \n",
       "Datsun 710        18.61   Straight Manuell   4         1           \n",
       "Hornet 4 Drive    19.44   Straight Automatik 3         1           \n",
       "Hornet Sportabout 17.02   V-shaped Automatik 3         2           \n",
       "Valiant           20.22   Straight Automatik 3         1           "
      ]
     },
     "metadata": {},
     "output_type": "display_data"
    }
   ],
   "source": [
    "head(mtcars2)"
   ]
  },
  {
   "cell_type": "markdown",
   "metadata": {},
   "source": [
    "Einen ersten Überblick über die Ausprägungen der einzelnen Daten kann mit der Funktion `summary()` angezeigt werden."
   ]
  },
  {
   "cell_type": "code",
   "execution_count": 11,
   "metadata": {},
   "outputs": [
    {
     "data": {
      "text/plain": [
       "   Reichweite    Anz_Zylinder    Hubraum            PS         Hinterachse   \n",
       " Min.   :10.40   4:11         Min.   : 71.1   Min.   : 52.0   Min.   :2.760  \n",
       " 1st Qu.:15.43   6: 7         1st Qu.:120.8   1st Qu.: 96.5   1st Qu.:3.080  \n",
       " Median :19.20   8:14         Median :196.3   Median :123.0   Median :3.695  \n",
       " Mean   :20.09                Mean   :230.7   Mean   :146.7   Mean   :3.597  \n",
       " 3rd Qu.:22.80                3rd Qu.:326.0   3rd Qu.:180.0   3rd Qu.:3.920  \n",
       " Max.   :33.90                Max.   :472.0   Max.   :335.0   Max.   :4.930  \n",
       "    Gewicht         Beschl.          Motorart       Getriebe  Anz_Gänge\n",
       " Min.   :1.513   Min.   :14.50   V-shaped:18   Automatik:19   3:15     \n",
       " 1st Qu.:2.581   1st Qu.:16.89   Straight:14   Manuell  :13   4:12     \n",
       " Median :3.325   Median :17.71                                5: 5     \n",
       " Mean   :3.217   Mean   :17.85                                         \n",
       " 3rd Qu.:3.610   3rd Qu.:18.90                                         \n",
       " Max.   :5.424   Max.   :22.90                                         \n",
       " Anz_Vergaser\n",
       " 1: 7        \n",
       " 2:10        \n",
       " 3: 3        \n",
       " 4:10        \n",
       " 6: 1        \n",
       " 8: 1        "
      ]
     },
     "metadata": {},
     "output_type": "display_data"
    }
   ],
   "source": [
    "summary(mtcars2)"
   ]
  },
  {
   "cell_type": "markdown",
   "metadata": {},
   "source": [
    "Die Häufigkeit einer Ausprägungen eines Merkmals kann mit `table()` abgefragt werden."
   ]
  },
  {
   "cell_type": "code",
   "execution_count": 12,
   "metadata": {},
   "outputs": [
    {
     "data": {
      "text/plain": [
       "\n",
       " 3  4  5 \n",
       "15 12  5 "
      ]
     },
     "metadata": {},
     "output_type": "display_data"
    }
   ],
   "source": [
    "table(mtcars2$Anz_Gänge)"
   ]
  },
  {
   "cell_type": "markdown",
   "metadata": {},
   "source": [
    "Die Funktion kann auch für die Analyse "
   ]
  },
  {
   "cell_type": "code",
   "execution_count": 13,
   "metadata": {},
   "outputs": [
    {
     "data": {
      "text/plain": [
       "   \n",
       "     4  6  8\n",
       "  3  1  2 12\n",
       "  4  8  4  0\n",
       "  5  2  1  2"
      ]
     },
     "metadata": {},
     "output_type": "display_data"
    }
   ],
   "source": [
    "table(mtcars2$Anz_Gänge, mtcars2$Anz_Zylinder)"
   ]
  },
  {
   "cell_type": "markdown",
   "metadata": {},
   "source": [
    "Die Funktion `with()` führt eine Funktion auf einem vorgegeben Datensatz aus. Der Vorteil bei der Verwendung ist, dass der Namen des Datensatzes nur einmal mit angegeben werden muss.\n",
    "\n",
    "Die obige Abfrage kann auch in folgender Form durchgeführt werden:"
   ]
  },
  {
   "cell_type": "code",
   "execution_count": 14,
   "metadata": {},
   "outputs": [
    {
     "data": {
      "text/plain": [
       "         Anz_Zylinder\n",
       "Anz_Gänge  4  6  8\n",
       "        3  1  2 12\n",
       "        4  8  4  0\n",
       "        5  2  1  2"
      ]
     },
     "metadata": {},
     "output_type": "display_data"
    }
   ],
   "source": [
    "with(mtcars2, table(Anz_Gänge, Anz_Zylinder))"
   ]
  },
  {
   "cell_type": "markdown",
   "metadata": {},
   "source": [
    "Oft beinhaltet der Zeilennamen ebenfalls Informationen und sollte deshalb wünschenswerterweise als Spalte zur Verfügung stehen. "
   ]
  },
  {
   "cell_type": "code",
   "execution_count": 15,
   "metadata": {},
   "outputs": [
    {
     "data": {
      "text/html": [
       "<table class=\"dataframe\">\n",
       "<caption>A data.frame: 6 × 11</caption>\n",
       "<thead>\n",
       "\t<tr><th></th><th scope=col>Reichweite</th><th scope=col>Anz_Zylinder</th><th scope=col>Hubraum</th><th scope=col>PS</th><th scope=col>Hinterachse</th><th scope=col>Gewicht</th><th scope=col>Beschl.</th><th scope=col>Motorart</th><th scope=col>Getriebe</th><th scope=col>Anz_Gänge</th><th scope=col>Anz_Vergaser</th></tr>\n",
       "\t<tr><th></th><th scope=col>&lt;dbl&gt;</th><th scope=col>&lt;fct&gt;</th><th scope=col>&lt;dbl&gt;</th><th scope=col>&lt;dbl&gt;</th><th scope=col>&lt;dbl&gt;</th><th scope=col>&lt;dbl&gt;</th><th scope=col>&lt;dbl&gt;</th><th scope=col>&lt;fct&gt;</th><th scope=col>&lt;fct&gt;</th><th scope=col>&lt;fct&gt;</th><th scope=col>&lt;fct&gt;</th></tr>\n",
       "</thead>\n",
       "<tbody>\n",
       "\t<tr><th scope=row>Mazda RX4</th><td>21.0</td><td>6</td><td>160</td><td>110</td><td>3.90</td><td>2.620</td><td>16.46</td><td>V-shaped</td><td>Manuell  </td><td>4</td><td>4</td></tr>\n",
       "\t<tr><th scope=row>Mazda RX4 Wag</th><td>21.0</td><td>6</td><td>160</td><td>110</td><td>3.90</td><td>2.875</td><td>17.02</td><td>V-shaped</td><td>Manuell  </td><td>4</td><td>4</td></tr>\n",
       "\t<tr><th scope=row>Datsun 710</th><td>22.8</td><td>4</td><td>108</td><td> 93</td><td>3.85</td><td>2.320</td><td>18.61</td><td>Straight</td><td>Manuell  </td><td>4</td><td>1</td></tr>\n",
       "\t<tr><th scope=row>Hornet 4 Drive</th><td>21.4</td><td>6</td><td>258</td><td>110</td><td>3.08</td><td>3.215</td><td>19.44</td><td>Straight</td><td>Automatik</td><td>3</td><td>1</td></tr>\n",
       "\t<tr><th scope=row>Hornet Sportabout</th><td>18.7</td><td>8</td><td>360</td><td>175</td><td>3.15</td><td>3.440</td><td>17.02</td><td>V-shaped</td><td>Automatik</td><td>3</td><td>2</td></tr>\n",
       "\t<tr><th scope=row>Valiant</th><td>18.1</td><td>6</td><td>225</td><td>105</td><td>2.76</td><td>3.460</td><td>20.22</td><td>Straight</td><td>Automatik</td><td>3</td><td>1</td></tr>\n",
       "</tbody>\n",
       "</table>\n"
      ],
      "text/latex": [
       "A data.frame: 6 × 11\n",
       "\\begin{tabular}{r|lllllllllll}\n",
       "  & Reichweite & Anz\\_Zylinder & Hubraum & PS & Hinterachse & Gewicht & Beschl. & Motorart & Getriebe & Anz\\_Gänge & Anz\\_Vergaser\\\\\n",
       "  & <dbl> & <fct> & <dbl> & <dbl> & <dbl> & <dbl> & <dbl> & <fct> & <fct> & <fct> & <fct>\\\\\n",
       "\\hline\n",
       "\tMazda RX4 & 21.0 & 6 & 160 & 110 & 3.90 & 2.620 & 16.46 & V-shaped & Manuell   & 4 & 4\\\\\n",
       "\tMazda RX4 Wag & 21.0 & 6 & 160 & 110 & 3.90 & 2.875 & 17.02 & V-shaped & Manuell   & 4 & 4\\\\\n",
       "\tDatsun 710 & 22.8 & 4 & 108 &  93 & 3.85 & 2.320 & 18.61 & Straight & Manuell   & 4 & 1\\\\\n",
       "\tHornet 4 Drive & 21.4 & 6 & 258 & 110 & 3.08 & 3.215 & 19.44 & Straight & Automatik & 3 & 1\\\\\n",
       "\tHornet Sportabout & 18.7 & 8 & 360 & 175 & 3.15 & 3.440 & 17.02 & V-shaped & Automatik & 3 & 2\\\\\n",
       "\tValiant & 18.1 & 6 & 225 & 105 & 2.76 & 3.460 & 20.22 & Straight & Automatik & 3 & 1\\\\\n",
       "\\end{tabular}\n"
      ],
      "text/markdown": [
       "\n",
       "A data.frame: 6 × 11\n",
       "\n",
       "| <!--/--> | Reichweite &lt;dbl&gt; | Anz_Zylinder &lt;fct&gt; | Hubraum &lt;dbl&gt; | PS &lt;dbl&gt; | Hinterachse &lt;dbl&gt; | Gewicht &lt;dbl&gt; | Beschl. &lt;dbl&gt; | Motorart &lt;fct&gt; | Getriebe &lt;fct&gt; | Anz_Gänge &lt;fct&gt; | Anz_Vergaser &lt;fct&gt; |\n",
       "|---|---|---|---|---|---|---|---|---|---|---|---|\n",
       "| Mazda RX4 | 21.0 | 6 | 160 | 110 | 3.90 | 2.620 | 16.46 | V-shaped | Manuell   | 4 | 4 |\n",
       "| Mazda RX4 Wag | 21.0 | 6 | 160 | 110 | 3.90 | 2.875 | 17.02 | V-shaped | Manuell   | 4 | 4 |\n",
       "| Datsun 710 | 22.8 | 4 | 108 |  93 | 3.85 | 2.320 | 18.61 | Straight | Manuell   | 4 | 1 |\n",
       "| Hornet 4 Drive | 21.4 | 6 | 258 | 110 | 3.08 | 3.215 | 19.44 | Straight | Automatik | 3 | 1 |\n",
       "| Hornet Sportabout | 18.7 | 8 | 360 | 175 | 3.15 | 3.440 | 17.02 | V-shaped | Automatik | 3 | 2 |\n",
       "| Valiant | 18.1 | 6 | 225 | 105 | 2.76 | 3.460 | 20.22 | Straight | Automatik | 3 | 1 |\n",
       "\n"
      ],
      "text/plain": [
       "                  Reichweite Anz_Zylinder Hubraum PS  Hinterachse Gewicht\n",
       "Mazda RX4         21.0       6            160     110 3.90        2.620  \n",
       "Mazda RX4 Wag     21.0       6            160     110 3.90        2.875  \n",
       "Datsun 710        22.8       4            108      93 3.85        2.320  \n",
       "Hornet 4 Drive    21.4       6            258     110 3.08        3.215  \n",
       "Hornet Sportabout 18.7       8            360     175 3.15        3.440  \n",
       "Valiant           18.1       6            225     105 2.76        3.460  \n",
       "                  Beschl. Motorart Getriebe  Anz_Gänge Anz_Vergaser\n",
       "Mazda RX4         16.46   V-shaped Manuell   4         4           \n",
       "Mazda RX4 Wag     17.02   V-shaped Manuell   4         4           \n",
       "Datsun 710        18.61   Straight Manuell   4         1           \n",
       "Hornet 4 Drive    19.44   Straight Automatik 3         1           \n",
       "Hornet Sportabout 17.02   V-shaped Automatik 3         2           \n",
       "Valiant           20.22   Straight Automatik 3         1           "
      ]
     },
     "metadata": {},
     "output_type": "display_data"
    }
   ],
   "source": [
    "head(mtcars2)"
   ]
  },
  {
   "cell_type": "markdown",
   "metadata": {},
   "source": [
    "Eine Möglichkeit, die Zeilennamen als Spalte zu erhalten, sind die folgenden Schritte:"
   ]
  },
  {
   "cell_type": "code",
   "execution_count": 16,
   "metadata": {},
   "outputs": [
    {
     "data": {
      "text/html": [
       "<table class=\"dataframe\">\n",
       "<caption>A data.frame: 10 × 12</caption>\n",
       "<thead>\n",
       "\t<tr><th></th><th scope=col>Modell</th><th scope=col>Reichweite</th><th scope=col>Anz_Zylinder</th><th scope=col>Hubraum</th><th scope=col>PS</th><th scope=col>Hinterachse</th><th scope=col>Gewicht</th><th scope=col>Beschl.</th><th scope=col>Motorart</th><th scope=col>Getriebe</th><th scope=col>Anz_Gänge</th><th scope=col>Anz_Vergaser</th></tr>\n",
       "\t<tr><th></th><th scope=col>&lt;chr&gt;</th><th scope=col>&lt;dbl&gt;</th><th scope=col>&lt;fct&gt;</th><th scope=col>&lt;dbl&gt;</th><th scope=col>&lt;dbl&gt;</th><th scope=col>&lt;dbl&gt;</th><th scope=col>&lt;dbl&gt;</th><th scope=col>&lt;dbl&gt;</th><th scope=col>&lt;fct&gt;</th><th scope=col>&lt;fct&gt;</th><th scope=col>&lt;fct&gt;</th><th scope=col>&lt;fct&gt;</th></tr>\n",
       "</thead>\n",
       "<tbody>\n",
       "\t<tr><th scope=row>1</th><td>Mazda RX4        </td><td>21.0</td><td>6</td><td>160.0</td><td>110</td><td>3.90</td><td>2.620</td><td>16.46</td><td>V-shaped</td><td>Manuell  </td><td>4</td><td>4</td></tr>\n",
       "\t<tr><th scope=row>2</th><td>Mazda RX4 Wag    </td><td>21.0</td><td>6</td><td>160.0</td><td>110</td><td>3.90</td><td>2.875</td><td>17.02</td><td>V-shaped</td><td>Manuell  </td><td>4</td><td>4</td></tr>\n",
       "\t<tr><th scope=row>3</th><td>Datsun 710       </td><td>22.8</td><td>4</td><td>108.0</td><td> 93</td><td>3.85</td><td>2.320</td><td>18.61</td><td>Straight</td><td>Manuell  </td><td>4</td><td>1</td></tr>\n",
       "\t<tr><th scope=row>4</th><td>Hornet 4 Drive   </td><td>21.4</td><td>6</td><td>258.0</td><td>110</td><td>3.08</td><td>3.215</td><td>19.44</td><td>Straight</td><td>Automatik</td><td>3</td><td>1</td></tr>\n",
       "\t<tr><th scope=row>5</th><td>Hornet Sportabout</td><td>18.7</td><td>8</td><td>360.0</td><td>175</td><td>3.15</td><td>3.440</td><td>17.02</td><td>V-shaped</td><td>Automatik</td><td>3</td><td>2</td></tr>\n",
       "\t<tr><th scope=row>6</th><td>Valiant          </td><td>18.1</td><td>6</td><td>225.0</td><td>105</td><td>2.76</td><td>3.460</td><td>20.22</td><td>Straight</td><td>Automatik</td><td>3</td><td>1</td></tr>\n",
       "\t<tr><th scope=row>7</th><td>Duster 360       </td><td>14.3</td><td>8</td><td>360.0</td><td>245</td><td>3.21</td><td>3.570</td><td>15.84</td><td>V-shaped</td><td>Automatik</td><td>3</td><td>4</td></tr>\n",
       "\t<tr><th scope=row>8</th><td>Merc 240D        </td><td>24.4</td><td>4</td><td>146.7</td><td> 62</td><td>3.69</td><td>3.190</td><td>20.00</td><td>Straight</td><td>Automatik</td><td>4</td><td>2</td></tr>\n",
       "\t<tr><th scope=row>9</th><td>Merc 230         </td><td>22.8</td><td>4</td><td>140.8</td><td> 95</td><td>3.92</td><td>3.150</td><td>22.90</td><td>Straight</td><td>Automatik</td><td>4</td><td>2</td></tr>\n",
       "\t<tr><th scope=row>10</th><td>Merc 280         </td><td>19.2</td><td>6</td><td>167.6</td><td>123</td><td>3.92</td><td>3.440</td><td>18.30</td><td>Straight</td><td>Automatik</td><td>4</td><td>4</td></tr>\n",
       "</tbody>\n",
       "</table>\n"
      ],
      "text/latex": [
       "A data.frame: 10 × 12\n",
       "\\begin{tabular}{r|llllllllllll}\n",
       "  & Modell & Reichweite & Anz\\_Zylinder & Hubraum & PS & Hinterachse & Gewicht & Beschl. & Motorart & Getriebe & Anz\\_Gänge & Anz\\_Vergaser\\\\\n",
       "  & <chr> & <dbl> & <fct> & <dbl> & <dbl> & <dbl> & <dbl> & <dbl> & <fct> & <fct> & <fct> & <fct>\\\\\n",
       "\\hline\n",
       "\t1 & Mazda RX4         & 21.0 & 6 & 160.0 & 110 & 3.90 & 2.620 & 16.46 & V-shaped & Manuell   & 4 & 4\\\\\n",
       "\t2 & Mazda RX4 Wag     & 21.0 & 6 & 160.0 & 110 & 3.90 & 2.875 & 17.02 & V-shaped & Manuell   & 4 & 4\\\\\n",
       "\t3 & Datsun 710        & 22.8 & 4 & 108.0 &  93 & 3.85 & 2.320 & 18.61 & Straight & Manuell   & 4 & 1\\\\\n",
       "\t4 & Hornet 4 Drive    & 21.4 & 6 & 258.0 & 110 & 3.08 & 3.215 & 19.44 & Straight & Automatik & 3 & 1\\\\\n",
       "\t5 & Hornet Sportabout & 18.7 & 8 & 360.0 & 175 & 3.15 & 3.440 & 17.02 & V-shaped & Automatik & 3 & 2\\\\\n",
       "\t6 & Valiant           & 18.1 & 6 & 225.0 & 105 & 2.76 & 3.460 & 20.22 & Straight & Automatik & 3 & 1\\\\\n",
       "\t7 & Duster 360        & 14.3 & 8 & 360.0 & 245 & 3.21 & 3.570 & 15.84 & V-shaped & Automatik & 3 & 4\\\\\n",
       "\t8 & Merc 240D         & 24.4 & 4 & 146.7 &  62 & 3.69 & 3.190 & 20.00 & Straight & Automatik & 4 & 2\\\\\n",
       "\t9 & Merc 230          & 22.8 & 4 & 140.8 &  95 & 3.92 & 3.150 & 22.90 & Straight & Automatik & 4 & 2\\\\\n",
       "\t10 & Merc 280          & 19.2 & 6 & 167.6 & 123 & 3.92 & 3.440 & 18.30 & Straight & Automatik & 4 & 4\\\\\n",
       "\\end{tabular}\n"
      ],
      "text/markdown": [
       "\n",
       "A data.frame: 10 × 12\n",
       "\n",
       "| <!--/--> | Modell &lt;chr&gt; | Reichweite &lt;dbl&gt; | Anz_Zylinder &lt;fct&gt; | Hubraum &lt;dbl&gt; | PS &lt;dbl&gt; | Hinterachse &lt;dbl&gt; | Gewicht &lt;dbl&gt; | Beschl. &lt;dbl&gt; | Motorart &lt;fct&gt; | Getriebe &lt;fct&gt; | Anz_Gänge &lt;fct&gt; | Anz_Vergaser &lt;fct&gt; |\n",
       "|---|---|---|---|---|---|---|---|---|---|---|---|---|\n",
       "| 1 | Mazda RX4         | 21.0 | 6 | 160.0 | 110 | 3.90 | 2.620 | 16.46 | V-shaped | Manuell   | 4 | 4 |\n",
       "| 2 | Mazda RX4 Wag     | 21.0 | 6 | 160.0 | 110 | 3.90 | 2.875 | 17.02 | V-shaped | Manuell   | 4 | 4 |\n",
       "| 3 | Datsun 710        | 22.8 | 4 | 108.0 |  93 | 3.85 | 2.320 | 18.61 | Straight | Manuell   | 4 | 1 |\n",
       "| 4 | Hornet 4 Drive    | 21.4 | 6 | 258.0 | 110 | 3.08 | 3.215 | 19.44 | Straight | Automatik | 3 | 1 |\n",
       "| 5 | Hornet Sportabout | 18.7 | 8 | 360.0 | 175 | 3.15 | 3.440 | 17.02 | V-shaped | Automatik | 3 | 2 |\n",
       "| 6 | Valiant           | 18.1 | 6 | 225.0 | 105 | 2.76 | 3.460 | 20.22 | Straight | Automatik | 3 | 1 |\n",
       "| 7 | Duster 360        | 14.3 | 8 | 360.0 | 245 | 3.21 | 3.570 | 15.84 | V-shaped | Automatik | 3 | 4 |\n",
       "| 8 | Merc 240D         | 24.4 | 4 | 146.7 |  62 | 3.69 | 3.190 | 20.00 | Straight | Automatik | 4 | 2 |\n",
       "| 9 | Merc 230          | 22.8 | 4 | 140.8 |  95 | 3.92 | 3.150 | 22.90 | Straight | Automatik | 4 | 2 |\n",
       "| 10 | Merc 280          | 19.2 | 6 | 167.6 | 123 | 3.92 | 3.440 | 18.30 | Straight | Automatik | 4 | 4 |\n",
       "\n"
      ],
      "text/plain": [
       "   Modell            Reichweite Anz_Zylinder Hubraum PS  Hinterachse Gewicht\n",
       "1  Mazda RX4         21.0       6            160.0   110 3.90        2.620  \n",
       "2  Mazda RX4 Wag     21.0       6            160.0   110 3.90        2.875  \n",
       "3  Datsun 710        22.8       4            108.0    93 3.85        2.320  \n",
       "4  Hornet 4 Drive    21.4       6            258.0   110 3.08        3.215  \n",
       "5  Hornet Sportabout 18.7       8            360.0   175 3.15        3.440  \n",
       "6  Valiant           18.1       6            225.0   105 2.76        3.460  \n",
       "7  Duster 360        14.3       8            360.0   245 3.21        3.570  \n",
       "8  Merc 240D         24.4       4            146.7    62 3.69        3.190  \n",
       "9  Merc 230          22.8       4            140.8    95 3.92        3.150  \n",
       "10 Merc 280          19.2       6            167.6   123 3.92        3.440  \n",
       "   Beschl. Motorart Getriebe  Anz_Gänge Anz_Vergaser\n",
       "1  16.46   V-shaped Manuell   4         4           \n",
       "2  17.02   V-shaped Manuell   4         4           \n",
       "3  18.61   Straight Manuell   4         1           \n",
       "4  19.44   Straight Automatik 3         1           \n",
       "5  17.02   V-shaped Automatik 3         2           \n",
       "6  20.22   Straight Automatik 3         1           \n",
       "7  15.84   V-shaped Automatik 3         4           \n",
       "8  20.00   Straight Automatik 4         2           \n",
       "9  22.90   Straight Automatik 4         2           \n",
       "10 18.30   Straight Automatik 4         4           "
      ]
     },
     "metadata": {},
     "output_type": "display_data"
    }
   ],
   "source": [
    "Modell <- rownames(mtcars2)                  # Abfrage der Zeilennamen\n",
    "mtcars2_Modell <- cbind(Modell, mtcars2)     # cbind(): \"columns\"-bind - Kombiniert Datensätze spaltenweise\n",
    "rownames(mtcars2_Modell) <- c()              # Die Zeilennamen werden gelöscht\n",
    "head(mtcars2_Modell, 10)"
   ]
  },
  {
   "cell_type": "markdown",
   "metadata": {},
   "source": [
    "Für zahlreiche Umformungen dieser Art wurden entsprechende Funktionen definiert. \n",
    "\n",
    "Die Funktion `rownames_to_column()` aus dem Paket `tibble` fügt die Zeilennamen in eine Spalte ein, deren Spaltennamen mit dem Argument `var` vorgegeben werden kann:"
   ]
  },
  {
   "cell_type": "code",
   "execution_count": 17,
   "metadata": {},
   "outputs": [
    {
     "data": {
      "text/html": [
       "<table class=\"dataframe\">\n",
       "<caption>A data.frame: 10 × 12</caption>\n",
       "<thead>\n",
       "\t<tr><th></th><th scope=col>Modell</th><th scope=col>Reichweite</th><th scope=col>Anz_Zylinder</th><th scope=col>Hubraum</th><th scope=col>PS</th><th scope=col>Hinterachse</th><th scope=col>Gewicht</th><th scope=col>Beschl.</th><th scope=col>Motorart</th><th scope=col>Getriebe</th><th scope=col>Anz_Gänge</th><th scope=col>Anz_Vergaser</th></tr>\n",
       "\t<tr><th></th><th scope=col>&lt;chr&gt;</th><th scope=col>&lt;dbl&gt;</th><th scope=col>&lt;fct&gt;</th><th scope=col>&lt;dbl&gt;</th><th scope=col>&lt;dbl&gt;</th><th scope=col>&lt;dbl&gt;</th><th scope=col>&lt;dbl&gt;</th><th scope=col>&lt;dbl&gt;</th><th scope=col>&lt;fct&gt;</th><th scope=col>&lt;fct&gt;</th><th scope=col>&lt;fct&gt;</th><th scope=col>&lt;fct&gt;</th></tr>\n",
       "</thead>\n",
       "<tbody>\n",
       "\t<tr><th scope=row>1</th><td>Mazda RX4        </td><td>21.0</td><td>6</td><td>160.0</td><td>110</td><td>3.90</td><td>2.620</td><td>16.46</td><td>V-shaped</td><td>Manuell  </td><td>4</td><td>4</td></tr>\n",
       "\t<tr><th scope=row>2</th><td>Mazda RX4 Wag    </td><td>21.0</td><td>6</td><td>160.0</td><td>110</td><td>3.90</td><td>2.875</td><td>17.02</td><td>V-shaped</td><td>Manuell  </td><td>4</td><td>4</td></tr>\n",
       "\t<tr><th scope=row>3</th><td>Datsun 710       </td><td>22.8</td><td>4</td><td>108.0</td><td> 93</td><td>3.85</td><td>2.320</td><td>18.61</td><td>Straight</td><td>Manuell  </td><td>4</td><td>1</td></tr>\n",
       "\t<tr><th scope=row>4</th><td>Hornet 4 Drive   </td><td>21.4</td><td>6</td><td>258.0</td><td>110</td><td>3.08</td><td>3.215</td><td>19.44</td><td>Straight</td><td>Automatik</td><td>3</td><td>1</td></tr>\n",
       "\t<tr><th scope=row>5</th><td>Hornet Sportabout</td><td>18.7</td><td>8</td><td>360.0</td><td>175</td><td>3.15</td><td>3.440</td><td>17.02</td><td>V-shaped</td><td>Automatik</td><td>3</td><td>2</td></tr>\n",
       "\t<tr><th scope=row>6</th><td>Valiant          </td><td>18.1</td><td>6</td><td>225.0</td><td>105</td><td>2.76</td><td>3.460</td><td>20.22</td><td>Straight</td><td>Automatik</td><td>3</td><td>1</td></tr>\n",
       "\t<tr><th scope=row>7</th><td>Duster 360       </td><td>14.3</td><td>8</td><td>360.0</td><td>245</td><td>3.21</td><td>3.570</td><td>15.84</td><td>V-shaped</td><td>Automatik</td><td>3</td><td>4</td></tr>\n",
       "\t<tr><th scope=row>8</th><td>Merc 240D        </td><td>24.4</td><td>4</td><td>146.7</td><td> 62</td><td>3.69</td><td>3.190</td><td>20.00</td><td>Straight</td><td>Automatik</td><td>4</td><td>2</td></tr>\n",
       "\t<tr><th scope=row>9</th><td>Merc 230         </td><td>22.8</td><td>4</td><td>140.8</td><td> 95</td><td>3.92</td><td>3.150</td><td>22.90</td><td>Straight</td><td>Automatik</td><td>4</td><td>2</td></tr>\n",
       "\t<tr><th scope=row>10</th><td>Merc 280         </td><td>19.2</td><td>6</td><td>167.6</td><td>123</td><td>3.92</td><td>3.440</td><td>18.30</td><td>Straight</td><td>Automatik</td><td>4</td><td>4</td></tr>\n",
       "</tbody>\n",
       "</table>\n"
      ],
      "text/latex": [
       "A data.frame: 10 × 12\n",
       "\\begin{tabular}{r|llllllllllll}\n",
       "  & Modell & Reichweite & Anz\\_Zylinder & Hubraum & PS & Hinterachse & Gewicht & Beschl. & Motorart & Getriebe & Anz\\_Gänge & Anz\\_Vergaser\\\\\n",
       "  & <chr> & <dbl> & <fct> & <dbl> & <dbl> & <dbl> & <dbl> & <dbl> & <fct> & <fct> & <fct> & <fct>\\\\\n",
       "\\hline\n",
       "\t1 & Mazda RX4         & 21.0 & 6 & 160.0 & 110 & 3.90 & 2.620 & 16.46 & V-shaped & Manuell   & 4 & 4\\\\\n",
       "\t2 & Mazda RX4 Wag     & 21.0 & 6 & 160.0 & 110 & 3.90 & 2.875 & 17.02 & V-shaped & Manuell   & 4 & 4\\\\\n",
       "\t3 & Datsun 710        & 22.8 & 4 & 108.0 &  93 & 3.85 & 2.320 & 18.61 & Straight & Manuell   & 4 & 1\\\\\n",
       "\t4 & Hornet 4 Drive    & 21.4 & 6 & 258.0 & 110 & 3.08 & 3.215 & 19.44 & Straight & Automatik & 3 & 1\\\\\n",
       "\t5 & Hornet Sportabout & 18.7 & 8 & 360.0 & 175 & 3.15 & 3.440 & 17.02 & V-shaped & Automatik & 3 & 2\\\\\n",
       "\t6 & Valiant           & 18.1 & 6 & 225.0 & 105 & 2.76 & 3.460 & 20.22 & Straight & Automatik & 3 & 1\\\\\n",
       "\t7 & Duster 360        & 14.3 & 8 & 360.0 & 245 & 3.21 & 3.570 & 15.84 & V-shaped & Automatik & 3 & 4\\\\\n",
       "\t8 & Merc 240D         & 24.4 & 4 & 146.7 &  62 & 3.69 & 3.190 & 20.00 & Straight & Automatik & 4 & 2\\\\\n",
       "\t9 & Merc 230          & 22.8 & 4 & 140.8 &  95 & 3.92 & 3.150 & 22.90 & Straight & Automatik & 4 & 2\\\\\n",
       "\t10 & Merc 280          & 19.2 & 6 & 167.6 & 123 & 3.92 & 3.440 & 18.30 & Straight & Automatik & 4 & 4\\\\\n",
       "\\end{tabular}\n"
      ],
      "text/markdown": [
       "\n",
       "A data.frame: 10 × 12\n",
       "\n",
       "| <!--/--> | Modell &lt;chr&gt; | Reichweite &lt;dbl&gt; | Anz_Zylinder &lt;fct&gt; | Hubraum &lt;dbl&gt; | PS &lt;dbl&gt; | Hinterachse &lt;dbl&gt; | Gewicht &lt;dbl&gt; | Beschl. &lt;dbl&gt; | Motorart &lt;fct&gt; | Getriebe &lt;fct&gt; | Anz_Gänge &lt;fct&gt; | Anz_Vergaser &lt;fct&gt; |\n",
       "|---|---|---|---|---|---|---|---|---|---|---|---|---|\n",
       "| 1 | Mazda RX4         | 21.0 | 6 | 160.0 | 110 | 3.90 | 2.620 | 16.46 | V-shaped | Manuell   | 4 | 4 |\n",
       "| 2 | Mazda RX4 Wag     | 21.0 | 6 | 160.0 | 110 | 3.90 | 2.875 | 17.02 | V-shaped | Manuell   | 4 | 4 |\n",
       "| 3 | Datsun 710        | 22.8 | 4 | 108.0 |  93 | 3.85 | 2.320 | 18.61 | Straight | Manuell   | 4 | 1 |\n",
       "| 4 | Hornet 4 Drive    | 21.4 | 6 | 258.0 | 110 | 3.08 | 3.215 | 19.44 | Straight | Automatik | 3 | 1 |\n",
       "| 5 | Hornet Sportabout | 18.7 | 8 | 360.0 | 175 | 3.15 | 3.440 | 17.02 | V-shaped | Automatik | 3 | 2 |\n",
       "| 6 | Valiant           | 18.1 | 6 | 225.0 | 105 | 2.76 | 3.460 | 20.22 | Straight | Automatik | 3 | 1 |\n",
       "| 7 | Duster 360        | 14.3 | 8 | 360.0 | 245 | 3.21 | 3.570 | 15.84 | V-shaped | Automatik | 3 | 4 |\n",
       "| 8 | Merc 240D         | 24.4 | 4 | 146.7 |  62 | 3.69 | 3.190 | 20.00 | Straight | Automatik | 4 | 2 |\n",
       "| 9 | Merc 230          | 22.8 | 4 | 140.8 |  95 | 3.92 | 3.150 | 22.90 | Straight | Automatik | 4 | 2 |\n",
       "| 10 | Merc 280          | 19.2 | 6 | 167.6 | 123 | 3.92 | 3.440 | 18.30 | Straight | Automatik | 4 | 4 |\n",
       "\n"
      ],
      "text/plain": [
       "   Modell            Reichweite Anz_Zylinder Hubraum PS  Hinterachse Gewicht\n",
       "1  Mazda RX4         21.0       6            160.0   110 3.90        2.620  \n",
       "2  Mazda RX4 Wag     21.0       6            160.0   110 3.90        2.875  \n",
       "3  Datsun 710        22.8       4            108.0    93 3.85        2.320  \n",
       "4  Hornet 4 Drive    21.4       6            258.0   110 3.08        3.215  \n",
       "5  Hornet Sportabout 18.7       8            360.0   175 3.15        3.440  \n",
       "6  Valiant           18.1       6            225.0   105 2.76        3.460  \n",
       "7  Duster 360        14.3       8            360.0   245 3.21        3.570  \n",
       "8  Merc 240D         24.4       4            146.7    62 3.69        3.190  \n",
       "9  Merc 230          22.8       4            140.8    95 3.92        3.150  \n",
       "10 Merc 280          19.2       6            167.6   123 3.92        3.440  \n",
       "   Beschl. Motorart Getriebe  Anz_Gänge Anz_Vergaser\n",
       "1  16.46   V-shaped Manuell   4         4           \n",
       "2  17.02   V-shaped Manuell   4         4           \n",
       "3  18.61   Straight Manuell   4         1           \n",
       "4  19.44   Straight Automatik 3         1           \n",
       "5  17.02   V-shaped Automatik 3         2           \n",
       "6  20.22   Straight Automatik 3         1           \n",
       "7  15.84   V-shaped Automatik 3         4           \n",
       "8  20.00   Straight Automatik 4         2           \n",
       "9  22.90   Straight Automatik 4         2           \n",
       "10 18.30   Straight Automatik 4         4           "
      ]
     },
     "metadata": {},
     "output_type": "display_data"
    }
   ],
   "source": [
    "mtcars2_Modell <- rownames_to_column(.data = mtcars2, var = \"Modell\")\n",
    "head(mtcars2_Modell, 10)"
   ]
  },
  {
   "cell_type": "markdown",
   "metadata": {},
   "source": [
    "Die entsprechende inverse Funktion ist `column_to_rownames()`."
   ]
  },
  {
   "cell_type": "code",
   "execution_count": 18,
   "metadata": {},
   "outputs": [
    {
     "data": {
      "text/html": [
       "<table class=\"dataframe\">\n",
       "<caption>A data.frame: 10 × 11</caption>\n",
       "<thead>\n",
       "\t<tr><th></th><th scope=col>Reichweite</th><th scope=col>Anz_Zylinder</th><th scope=col>Hubraum</th><th scope=col>PS</th><th scope=col>Hinterachse</th><th scope=col>Gewicht</th><th scope=col>Beschl.</th><th scope=col>Motorart</th><th scope=col>Getriebe</th><th scope=col>Anz_Gänge</th><th scope=col>Anz_Vergaser</th></tr>\n",
       "\t<tr><th></th><th scope=col>&lt;dbl&gt;</th><th scope=col>&lt;fct&gt;</th><th scope=col>&lt;dbl&gt;</th><th scope=col>&lt;dbl&gt;</th><th scope=col>&lt;dbl&gt;</th><th scope=col>&lt;dbl&gt;</th><th scope=col>&lt;dbl&gt;</th><th scope=col>&lt;fct&gt;</th><th scope=col>&lt;fct&gt;</th><th scope=col>&lt;fct&gt;</th><th scope=col>&lt;fct&gt;</th></tr>\n",
       "</thead>\n",
       "<tbody>\n",
       "\t<tr><th scope=row>Mazda RX4</th><td>21.0</td><td>6</td><td>160.0</td><td>110</td><td>3.90</td><td>2.620</td><td>16.46</td><td>V-shaped</td><td>Manuell  </td><td>4</td><td>4</td></tr>\n",
       "\t<tr><th scope=row>Mazda RX4 Wag</th><td>21.0</td><td>6</td><td>160.0</td><td>110</td><td>3.90</td><td>2.875</td><td>17.02</td><td>V-shaped</td><td>Manuell  </td><td>4</td><td>4</td></tr>\n",
       "\t<tr><th scope=row>Datsun 710</th><td>22.8</td><td>4</td><td>108.0</td><td> 93</td><td>3.85</td><td>2.320</td><td>18.61</td><td>Straight</td><td>Manuell  </td><td>4</td><td>1</td></tr>\n",
       "\t<tr><th scope=row>Hornet 4 Drive</th><td>21.4</td><td>6</td><td>258.0</td><td>110</td><td>3.08</td><td>3.215</td><td>19.44</td><td>Straight</td><td>Automatik</td><td>3</td><td>1</td></tr>\n",
       "\t<tr><th scope=row>Hornet Sportabout</th><td>18.7</td><td>8</td><td>360.0</td><td>175</td><td>3.15</td><td>3.440</td><td>17.02</td><td>V-shaped</td><td>Automatik</td><td>3</td><td>2</td></tr>\n",
       "\t<tr><th scope=row>Valiant</th><td>18.1</td><td>6</td><td>225.0</td><td>105</td><td>2.76</td><td>3.460</td><td>20.22</td><td>Straight</td><td>Automatik</td><td>3</td><td>1</td></tr>\n",
       "\t<tr><th scope=row>Duster 360</th><td>14.3</td><td>8</td><td>360.0</td><td>245</td><td>3.21</td><td>3.570</td><td>15.84</td><td>V-shaped</td><td>Automatik</td><td>3</td><td>4</td></tr>\n",
       "\t<tr><th scope=row>Merc 240D</th><td>24.4</td><td>4</td><td>146.7</td><td> 62</td><td>3.69</td><td>3.190</td><td>20.00</td><td>Straight</td><td>Automatik</td><td>4</td><td>2</td></tr>\n",
       "\t<tr><th scope=row>Merc 230</th><td>22.8</td><td>4</td><td>140.8</td><td> 95</td><td>3.92</td><td>3.150</td><td>22.90</td><td>Straight</td><td>Automatik</td><td>4</td><td>2</td></tr>\n",
       "\t<tr><th scope=row>Merc 280</th><td>19.2</td><td>6</td><td>167.6</td><td>123</td><td>3.92</td><td>3.440</td><td>18.30</td><td>Straight</td><td>Automatik</td><td>4</td><td>4</td></tr>\n",
       "</tbody>\n",
       "</table>\n"
      ],
      "text/latex": [
       "A data.frame: 10 × 11\n",
       "\\begin{tabular}{r|lllllllllll}\n",
       "  & Reichweite & Anz\\_Zylinder & Hubraum & PS & Hinterachse & Gewicht & Beschl. & Motorart & Getriebe & Anz\\_Gänge & Anz\\_Vergaser\\\\\n",
       "  & <dbl> & <fct> & <dbl> & <dbl> & <dbl> & <dbl> & <dbl> & <fct> & <fct> & <fct> & <fct>\\\\\n",
       "\\hline\n",
       "\tMazda RX4 & 21.0 & 6 & 160.0 & 110 & 3.90 & 2.620 & 16.46 & V-shaped & Manuell   & 4 & 4\\\\\n",
       "\tMazda RX4 Wag & 21.0 & 6 & 160.0 & 110 & 3.90 & 2.875 & 17.02 & V-shaped & Manuell   & 4 & 4\\\\\n",
       "\tDatsun 710 & 22.8 & 4 & 108.0 &  93 & 3.85 & 2.320 & 18.61 & Straight & Manuell   & 4 & 1\\\\\n",
       "\tHornet 4 Drive & 21.4 & 6 & 258.0 & 110 & 3.08 & 3.215 & 19.44 & Straight & Automatik & 3 & 1\\\\\n",
       "\tHornet Sportabout & 18.7 & 8 & 360.0 & 175 & 3.15 & 3.440 & 17.02 & V-shaped & Automatik & 3 & 2\\\\\n",
       "\tValiant & 18.1 & 6 & 225.0 & 105 & 2.76 & 3.460 & 20.22 & Straight & Automatik & 3 & 1\\\\\n",
       "\tDuster 360 & 14.3 & 8 & 360.0 & 245 & 3.21 & 3.570 & 15.84 & V-shaped & Automatik & 3 & 4\\\\\n",
       "\tMerc 240D & 24.4 & 4 & 146.7 &  62 & 3.69 & 3.190 & 20.00 & Straight & Automatik & 4 & 2\\\\\n",
       "\tMerc 230 & 22.8 & 4 & 140.8 &  95 & 3.92 & 3.150 & 22.90 & Straight & Automatik & 4 & 2\\\\\n",
       "\tMerc 280 & 19.2 & 6 & 167.6 & 123 & 3.92 & 3.440 & 18.30 & Straight & Automatik & 4 & 4\\\\\n",
       "\\end{tabular}\n"
      ],
      "text/markdown": [
       "\n",
       "A data.frame: 10 × 11\n",
       "\n",
       "| <!--/--> | Reichweite &lt;dbl&gt; | Anz_Zylinder &lt;fct&gt; | Hubraum &lt;dbl&gt; | PS &lt;dbl&gt; | Hinterachse &lt;dbl&gt; | Gewicht &lt;dbl&gt; | Beschl. &lt;dbl&gt; | Motorart &lt;fct&gt; | Getriebe &lt;fct&gt; | Anz_Gänge &lt;fct&gt; | Anz_Vergaser &lt;fct&gt; |\n",
       "|---|---|---|---|---|---|---|---|---|---|---|---|\n",
       "| Mazda RX4 | 21.0 | 6 | 160.0 | 110 | 3.90 | 2.620 | 16.46 | V-shaped | Manuell   | 4 | 4 |\n",
       "| Mazda RX4 Wag | 21.0 | 6 | 160.0 | 110 | 3.90 | 2.875 | 17.02 | V-shaped | Manuell   | 4 | 4 |\n",
       "| Datsun 710 | 22.8 | 4 | 108.0 |  93 | 3.85 | 2.320 | 18.61 | Straight | Manuell   | 4 | 1 |\n",
       "| Hornet 4 Drive | 21.4 | 6 | 258.0 | 110 | 3.08 | 3.215 | 19.44 | Straight | Automatik | 3 | 1 |\n",
       "| Hornet Sportabout | 18.7 | 8 | 360.0 | 175 | 3.15 | 3.440 | 17.02 | V-shaped | Automatik | 3 | 2 |\n",
       "| Valiant | 18.1 | 6 | 225.0 | 105 | 2.76 | 3.460 | 20.22 | Straight | Automatik | 3 | 1 |\n",
       "| Duster 360 | 14.3 | 8 | 360.0 | 245 | 3.21 | 3.570 | 15.84 | V-shaped | Automatik | 3 | 4 |\n",
       "| Merc 240D | 24.4 | 4 | 146.7 |  62 | 3.69 | 3.190 | 20.00 | Straight | Automatik | 4 | 2 |\n",
       "| Merc 230 | 22.8 | 4 | 140.8 |  95 | 3.92 | 3.150 | 22.90 | Straight | Automatik | 4 | 2 |\n",
       "| Merc 280 | 19.2 | 6 | 167.6 | 123 | 3.92 | 3.440 | 18.30 | Straight | Automatik | 4 | 4 |\n",
       "\n"
      ],
      "text/plain": [
       "                  Reichweite Anz_Zylinder Hubraum PS  Hinterachse Gewicht\n",
       "Mazda RX4         21.0       6            160.0   110 3.90        2.620  \n",
       "Mazda RX4 Wag     21.0       6            160.0   110 3.90        2.875  \n",
       "Datsun 710        22.8       4            108.0    93 3.85        2.320  \n",
       "Hornet 4 Drive    21.4       6            258.0   110 3.08        3.215  \n",
       "Hornet Sportabout 18.7       8            360.0   175 3.15        3.440  \n",
       "Valiant           18.1       6            225.0   105 2.76        3.460  \n",
       "Duster 360        14.3       8            360.0   245 3.21        3.570  \n",
       "Merc 240D         24.4       4            146.7    62 3.69        3.190  \n",
       "Merc 230          22.8       4            140.8    95 3.92        3.150  \n",
       "Merc 280          19.2       6            167.6   123 3.92        3.440  \n",
       "                  Beschl. Motorart Getriebe  Anz_Gänge Anz_Vergaser\n",
       "Mazda RX4         16.46   V-shaped Manuell   4         4           \n",
       "Mazda RX4 Wag     17.02   V-shaped Manuell   4         4           \n",
       "Datsun 710        18.61   Straight Manuell   4         1           \n",
       "Hornet 4 Drive    19.44   Straight Automatik 3         1           \n",
       "Hornet Sportabout 17.02   V-shaped Automatik 3         2           \n",
       "Valiant           20.22   Straight Automatik 3         1           \n",
       "Duster 360        15.84   V-shaped Automatik 3         4           \n",
       "Merc 240D         20.00   Straight Automatik 4         2           \n",
       "Merc 230          22.90   Straight Automatik 4         2           \n",
       "Merc 280          18.30   Straight Automatik 4         4           "
      ]
     },
     "metadata": {},
     "output_type": "display_data"
    }
   ],
   "source": [
    "Original <- column_to_rownames(.data = mtcars2_Modell, var = \"Modell\")\n",
    "head(Original, 10)"
   ]
  },
  {
   "cell_type": "markdown",
   "metadata": {},
   "source": [
    "### Bearbeitung der Daten\n",
    "\n",
    "Für die Bearbeitung eines Datensatzes stehen verschiedene Funktion zur Verfügung:\n",
    "* `filter`: Filtert den Datensatz nach einzelnen Beobachtungen\n",
    "* `select`: Filter einzeler Variablen\n",
    "* `mutate`: Bearbeitung einzelner Variablen\n",
    "* `summarize`: Summation der Beobachtungen\n",
    "* `group_by`: Gruppierung des Datensatz\n",
    "* `arrange`: Sortierung des Datensatzes"
   ]
  },
  {
   "cell_type": "markdown",
   "metadata": {},
   "source": [
    "`filter()`  Filter den Datensatz nach einzelnen Beobachtungen"
   ]
  },
  {
   "cell_type": "code",
   "execution_count": 19,
   "metadata": {
    "scrolled": false
   },
   "outputs": [
    {
     "data": {
      "text/html": [
       "<table class=\"dataframe\">\n",
       "<caption>A data.frame: 6 × 11</caption>\n",
       "<thead>\n",
       "\t<tr><th></th><th scope=col>Reichweite</th><th scope=col>Anz_Zylinder</th><th scope=col>Hubraum</th><th scope=col>PS</th><th scope=col>Hinterachse</th><th scope=col>Gewicht</th><th scope=col>Beschl.</th><th scope=col>Motorart</th><th scope=col>Getriebe</th><th scope=col>Anz_Gänge</th><th scope=col>Anz_Vergaser</th></tr>\n",
       "\t<tr><th></th><th scope=col>&lt;dbl&gt;</th><th scope=col>&lt;fct&gt;</th><th scope=col>&lt;dbl&gt;</th><th scope=col>&lt;dbl&gt;</th><th scope=col>&lt;dbl&gt;</th><th scope=col>&lt;dbl&gt;</th><th scope=col>&lt;dbl&gt;</th><th scope=col>&lt;fct&gt;</th><th scope=col>&lt;fct&gt;</th><th scope=col>&lt;fct&gt;</th><th scope=col>&lt;fct&gt;</th></tr>\n",
       "</thead>\n",
       "<tbody>\n",
       "\t<tr><th scope=row>Mazda RX4</th><td>21.0</td><td>6</td><td>160.0</td><td>110</td><td>3.90</td><td>2.620</td><td>16.46</td><td>V-shaped</td><td>Manuell  </td><td>4</td><td>4</td></tr>\n",
       "\t<tr><th scope=row>Mazda RX4 Wag</th><td>21.0</td><td>6</td><td>160.0</td><td>110</td><td>3.90</td><td>2.875</td><td>17.02</td><td>V-shaped</td><td>Manuell  </td><td>4</td><td>4</td></tr>\n",
       "\t<tr><th scope=row>Datsun 710</th><td>22.8</td><td>4</td><td>108.0</td><td> 93</td><td>3.85</td><td>2.320</td><td>18.61</td><td>Straight</td><td>Manuell  </td><td>4</td><td>1</td></tr>\n",
       "\t<tr><th scope=row>Merc 240D</th><td>24.4</td><td>4</td><td>146.7</td><td> 62</td><td>3.69</td><td>3.190</td><td>20.00</td><td>Straight</td><td>Automatik</td><td>4</td><td>2</td></tr>\n",
       "\t<tr><th scope=row>Merc 230</th><td>22.8</td><td>4</td><td>140.8</td><td> 95</td><td>3.92</td><td>3.150</td><td>22.90</td><td>Straight</td><td>Automatik</td><td>4</td><td>2</td></tr>\n",
       "\t<tr><th scope=row>Merc 280</th><td>19.2</td><td>6</td><td>167.6</td><td>123</td><td>3.92</td><td>3.440</td><td>18.30</td><td>Straight</td><td>Automatik</td><td>4</td><td>4</td></tr>\n",
       "</tbody>\n",
       "</table>\n"
      ],
      "text/latex": [
       "A data.frame: 6 × 11\n",
       "\\begin{tabular}{r|lllllllllll}\n",
       "  & Reichweite & Anz\\_Zylinder & Hubraum & PS & Hinterachse & Gewicht & Beschl. & Motorart & Getriebe & Anz\\_Gänge & Anz\\_Vergaser\\\\\n",
       "  & <dbl> & <fct> & <dbl> & <dbl> & <dbl> & <dbl> & <dbl> & <fct> & <fct> & <fct> & <fct>\\\\\n",
       "\\hline\n",
       "\tMazda RX4 & 21.0 & 6 & 160.0 & 110 & 3.90 & 2.620 & 16.46 & V-shaped & Manuell   & 4 & 4\\\\\n",
       "\tMazda RX4 Wag & 21.0 & 6 & 160.0 & 110 & 3.90 & 2.875 & 17.02 & V-shaped & Manuell   & 4 & 4\\\\\n",
       "\tDatsun 710 & 22.8 & 4 & 108.0 &  93 & 3.85 & 2.320 & 18.61 & Straight & Manuell   & 4 & 1\\\\\n",
       "\tMerc 240D & 24.4 & 4 & 146.7 &  62 & 3.69 & 3.190 & 20.00 & Straight & Automatik & 4 & 2\\\\\n",
       "\tMerc 230 & 22.8 & 4 & 140.8 &  95 & 3.92 & 3.150 & 22.90 & Straight & Automatik & 4 & 2\\\\\n",
       "\tMerc 280 & 19.2 & 6 & 167.6 & 123 & 3.92 & 3.440 & 18.30 & Straight & Automatik & 4 & 4\\\\\n",
       "\\end{tabular}\n"
      ],
      "text/markdown": [
       "\n",
       "A data.frame: 6 × 11\n",
       "\n",
       "| <!--/--> | Reichweite &lt;dbl&gt; | Anz_Zylinder &lt;fct&gt; | Hubraum &lt;dbl&gt; | PS &lt;dbl&gt; | Hinterachse &lt;dbl&gt; | Gewicht &lt;dbl&gt; | Beschl. &lt;dbl&gt; | Motorart &lt;fct&gt; | Getriebe &lt;fct&gt; | Anz_Gänge &lt;fct&gt; | Anz_Vergaser &lt;fct&gt; |\n",
       "|---|---|---|---|---|---|---|---|---|---|---|---|\n",
       "| Mazda RX4 | 21.0 | 6 | 160.0 | 110 | 3.90 | 2.620 | 16.46 | V-shaped | Manuell   | 4 | 4 |\n",
       "| Mazda RX4 Wag | 21.0 | 6 | 160.0 | 110 | 3.90 | 2.875 | 17.02 | V-shaped | Manuell   | 4 | 4 |\n",
       "| Datsun 710 | 22.8 | 4 | 108.0 |  93 | 3.85 | 2.320 | 18.61 | Straight | Manuell   | 4 | 1 |\n",
       "| Merc 240D | 24.4 | 4 | 146.7 |  62 | 3.69 | 3.190 | 20.00 | Straight | Automatik | 4 | 2 |\n",
       "| Merc 230 | 22.8 | 4 | 140.8 |  95 | 3.92 | 3.150 | 22.90 | Straight | Automatik | 4 | 2 |\n",
       "| Merc 280 | 19.2 | 6 | 167.6 | 123 | 3.92 | 3.440 | 18.30 | Straight | Automatik | 4 | 4 |\n",
       "\n"
      ],
      "text/plain": [
       "              Reichweite Anz_Zylinder Hubraum PS  Hinterachse Gewicht Beschl.\n",
       "Mazda RX4     21.0       6            160.0   110 3.90        2.620   16.46  \n",
       "Mazda RX4 Wag 21.0       6            160.0   110 3.90        2.875   17.02  \n",
       "Datsun 710    22.8       4            108.0    93 3.85        2.320   18.61  \n",
       "Merc 240D     24.4       4            146.7    62 3.69        3.190   20.00  \n",
       "Merc 230      22.8       4            140.8    95 3.92        3.150   22.90  \n",
       "Merc 280      19.2       6            167.6   123 3.92        3.440   18.30  \n",
       "              Motorart Getriebe  Anz_Gänge Anz_Vergaser\n",
       "Mazda RX4     V-shaped Manuell   4         4           \n",
       "Mazda RX4 Wag V-shaped Manuell   4         4           \n",
       "Datsun 710    Straight Manuell   4         1           \n",
       "Merc 240D     Straight Automatik 4         2           \n",
       "Merc 230      Straight Automatik 4         2           \n",
       "Merc 280      Straight Automatik 4         4           "
      ]
     },
     "metadata": {},
     "output_type": "display_data"
    }
   ],
   "source": [
    "mtcars2 %>%\n",
    "  filter(Anz_Gänge == 4) %>%\n",
    "  head()"
   ]
  },
  {
   "cell_type": "code",
   "execution_count": 20,
   "metadata": {
    "scrolled": true
   },
   "outputs": [
    {
     "data": {
      "text/html": [
       "<table class=\"dataframe\">\n",
       "<caption>A data.frame: 6 × 11</caption>\n",
       "<thead>\n",
       "\t<tr><th></th><th scope=col>Reichweite</th><th scope=col>Anz_Zylinder</th><th scope=col>Hubraum</th><th scope=col>PS</th><th scope=col>Hinterachse</th><th scope=col>Gewicht</th><th scope=col>Beschl.</th><th scope=col>Motorart</th><th scope=col>Getriebe</th><th scope=col>Anz_Gänge</th><th scope=col>Anz_Vergaser</th></tr>\n",
       "\t<tr><th></th><th scope=col>&lt;dbl&gt;</th><th scope=col>&lt;fct&gt;</th><th scope=col>&lt;dbl&gt;</th><th scope=col>&lt;dbl&gt;</th><th scope=col>&lt;dbl&gt;</th><th scope=col>&lt;dbl&gt;</th><th scope=col>&lt;dbl&gt;</th><th scope=col>&lt;fct&gt;</th><th scope=col>&lt;fct&gt;</th><th scope=col>&lt;fct&gt;</th><th scope=col>&lt;fct&gt;</th></tr>\n",
       "</thead>\n",
       "<tbody>\n",
       "\t<tr><th scope=row>Datsun 710</th><td>22.8</td><td>4</td><td>108.0</td><td>93</td><td>3.85</td><td>2.320</td><td>18.61</td><td>Straight</td><td>Manuell  </td><td>4</td><td>1</td></tr>\n",
       "\t<tr><th scope=row>Merc 240D</th><td>24.4</td><td>4</td><td>146.7</td><td>62</td><td>3.69</td><td>3.190</td><td>20.00</td><td>Straight</td><td>Automatik</td><td>4</td><td>2</td></tr>\n",
       "\t<tr><th scope=row>Merc 230</th><td>22.8</td><td>4</td><td>140.8</td><td>95</td><td>3.92</td><td>3.150</td><td>22.90</td><td>Straight</td><td>Automatik</td><td>4</td><td>2</td></tr>\n",
       "\t<tr><th scope=row>Fiat 128</th><td>32.4</td><td>4</td><td> 78.7</td><td>66</td><td>4.08</td><td>2.200</td><td>19.47</td><td>Straight</td><td>Manuell  </td><td>4</td><td>1</td></tr>\n",
       "\t<tr><th scope=row>Honda Civic</th><td>30.4</td><td>4</td><td> 75.7</td><td>52</td><td>4.93</td><td>1.615</td><td>18.52</td><td>Straight</td><td>Manuell  </td><td>4</td><td>2</td></tr>\n",
       "\t<tr><th scope=row>Toyota Corolla</th><td>33.9</td><td>4</td><td> 71.1</td><td>65</td><td>4.22</td><td>1.835</td><td>19.90</td><td>Straight</td><td>Manuell  </td><td>4</td><td>1</td></tr>\n",
       "</tbody>\n",
       "</table>\n"
      ],
      "text/latex": [
       "A data.frame: 6 × 11\n",
       "\\begin{tabular}{r|lllllllllll}\n",
       "  & Reichweite & Anz\\_Zylinder & Hubraum & PS & Hinterachse & Gewicht & Beschl. & Motorart & Getriebe & Anz\\_Gänge & Anz\\_Vergaser\\\\\n",
       "  & <dbl> & <fct> & <dbl> & <dbl> & <dbl> & <dbl> & <dbl> & <fct> & <fct> & <fct> & <fct>\\\\\n",
       "\\hline\n",
       "\tDatsun 710 & 22.8 & 4 & 108.0 & 93 & 3.85 & 2.320 & 18.61 & Straight & Manuell   & 4 & 1\\\\\n",
       "\tMerc 240D & 24.4 & 4 & 146.7 & 62 & 3.69 & 3.190 & 20.00 & Straight & Automatik & 4 & 2\\\\\n",
       "\tMerc 230 & 22.8 & 4 & 140.8 & 95 & 3.92 & 3.150 & 22.90 & Straight & Automatik & 4 & 2\\\\\n",
       "\tFiat 128 & 32.4 & 4 &  78.7 & 66 & 4.08 & 2.200 & 19.47 & Straight & Manuell   & 4 & 1\\\\\n",
       "\tHonda Civic & 30.4 & 4 &  75.7 & 52 & 4.93 & 1.615 & 18.52 & Straight & Manuell   & 4 & 2\\\\\n",
       "\tToyota Corolla & 33.9 & 4 &  71.1 & 65 & 4.22 & 1.835 & 19.90 & Straight & Manuell   & 4 & 1\\\\\n",
       "\\end{tabular}\n"
      ],
      "text/markdown": [
       "\n",
       "A data.frame: 6 × 11\n",
       "\n",
       "| <!--/--> | Reichweite &lt;dbl&gt; | Anz_Zylinder &lt;fct&gt; | Hubraum &lt;dbl&gt; | PS &lt;dbl&gt; | Hinterachse &lt;dbl&gt; | Gewicht &lt;dbl&gt; | Beschl. &lt;dbl&gt; | Motorart &lt;fct&gt; | Getriebe &lt;fct&gt; | Anz_Gänge &lt;fct&gt; | Anz_Vergaser &lt;fct&gt; |\n",
       "|---|---|---|---|---|---|---|---|---|---|---|---|\n",
       "| Datsun 710 | 22.8 | 4 | 108.0 | 93 | 3.85 | 2.320 | 18.61 | Straight | Manuell   | 4 | 1 |\n",
       "| Merc 240D | 24.4 | 4 | 146.7 | 62 | 3.69 | 3.190 | 20.00 | Straight | Automatik | 4 | 2 |\n",
       "| Merc 230 | 22.8 | 4 | 140.8 | 95 | 3.92 | 3.150 | 22.90 | Straight | Automatik | 4 | 2 |\n",
       "| Fiat 128 | 32.4 | 4 |  78.7 | 66 | 4.08 | 2.200 | 19.47 | Straight | Manuell   | 4 | 1 |\n",
       "| Honda Civic | 30.4 | 4 |  75.7 | 52 | 4.93 | 1.615 | 18.52 | Straight | Manuell   | 4 | 2 |\n",
       "| Toyota Corolla | 33.9 | 4 |  71.1 | 65 | 4.22 | 1.835 | 19.90 | Straight | Manuell   | 4 | 1 |\n",
       "\n"
      ],
      "text/plain": [
       "               Reichweite Anz_Zylinder Hubraum PS Hinterachse Gewicht Beschl.\n",
       "Datsun 710     22.8       4            108.0   93 3.85        2.320   18.61  \n",
       "Merc 240D      24.4       4            146.7   62 3.69        3.190   20.00  \n",
       "Merc 230       22.8       4            140.8   95 3.92        3.150   22.90  \n",
       "Fiat 128       32.4       4             78.7   66 4.08        2.200   19.47  \n",
       "Honda Civic    30.4       4             75.7   52 4.93        1.615   18.52  \n",
       "Toyota Corolla 33.9       4             71.1   65 4.22        1.835   19.90  \n",
       "               Motorart Getriebe  Anz_Gänge Anz_Vergaser\n",
       "Datsun 710     Straight Manuell   4         1           \n",
       "Merc 240D      Straight Automatik 4         2           \n",
       "Merc 230       Straight Automatik 4         2           \n",
       "Fiat 128       Straight Manuell   4         1           \n",
       "Honda Civic    Straight Manuell   4         2           \n",
       "Toyota Corolla Straight Manuell   4         1           "
      ]
     },
     "metadata": {},
     "output_type": "display_data"
    }
   ],
   "source": [
    "mtcars2 %>%\n",
    "  filter(Anz_Gänge == 4, Reichweite > 22) %>%\n",
    "  head()"
   ]
  },
  {
   "cell_type": "markdown",
   "metadata": {},
   "source": [
    "`select()` Filter einzeler Variablen"
   ]
  },
  {
   "cell_type": "code",
   "execution_count": 21,
   "metadata": {
    "scrolled": true
   },
   "outputs": [
    {
     "data": {
      "text/html": [
       "<table class=\"dataframe\">\n",
       "<caption>A data.frame: 6 × 2</caption>\n",
       "<thead>\n",
       "\t<tr><th></th><th scope=col>Reichweite</th><th scope=col>PS</th></tr>\n",
       "\t<tr><th></th><th scope=col>&lt;dbl&gt;</th><th scope=col>&lt;dbl&gt;</th></tr>\n",
       "</thead>\n",
       "<tbody>\n",
       "\t<tr><th scope=row>Mazda RX4</th><td>21.0</td><td>110</td></tr>\n",
       "\t<tr><th scope=row>Mazda RX4 Wag</th><td>21.0</td><td>110</td></tr>\n",
       "\t<tr><th scope=row>Datsun 710</th><td>22.8</td><td> 93</td></tr>\n",
       "\t<tr><th scope=row>Hornet 4 Drive</th><td>21.4</td><td>110</td></tr>\n",
       "\t<tr><th scope=row>Hornet Sportabout</th><td>18.7</td><td>175</td></tr>\n",
       "\t<tr><th scope=row>Valiant</th><td>18.1</td><td>105</td></tr>\n",
       "</tbody>\n",
       "</table>\n"
      ],
      "text/latex": [
       "A data.frame: 6 × 2\n",
       "\\begin{tabular}{r|ll}\n",
       "  & Reichweite & PS\\\\\n",
       "  & <dbl> & <dbl>\\\\\n",
       "\\hline\n",
       "\tMazda RX4 & 21.0 & 110\\\\\n",
       "\tMazda RX4 Wag & 21.0 & 110\\\\\n",
       "\tDatsun 710 & 22.8 &  93\\\\\n",
       "\tHornet 4 Drive & 21.4 & 110\\\\\n",
       "\tHornet Sportabout & 18.7 & 175\\\\\n",
       "\tValiant & 18.1 & 105\\\\\n",
       "\\end{tabular}\n"
      ],
      "text/markdown": [
       "\n",
       "A data.frame: 6 × 2\n",
       "\n",
       "| <!--/--> | Reichweite &lt;dbl&gt; | PS &lt;dbl&gt; |\n",
       "|---|---|---|\n",
       "| Mazda RX4 | 21.0 | 110 |\n",
       "| Mazda RX4 Wag | 21.0 | 110 |\n",
       "| Datsun 710 | 22.8 |  93 |\n",
       "| Hornet 4 Drive | 21.4 | 110 |\n",
       "| Hornet Sportabout | 18.7 | 175 |\n",
       "| Valiant | 18.1 | 105 |\n",
       "\n"
      ],
      "text/plain": [
       "                  Reichweite PS \n",
       "Mazda RX4         21.0       110\n",
       "Mazda RX4 Wag     21.0       110\n",
       "Datsun 710        22.8        93\n",
       "Hornet 4 Drive    21.4       110\n",
       "Hornet Sportabout 18.7       175\n",
       "Valiant           18.1       105"
      ]
     },
     "metadata": {},
     "output_type": "display_data"
    }
   ],
   "source": [
    "mtcars2 %>%\n",
    "  select(Reichweite, PS) %>%\n",
    "  head()"
   ]
  },
  {
   "cell_type": "code",
   "execution_count": 22,
   "metadata": {
    "scrolled": true
   },
   "outputs": [
    {
     "data": {
      "text/html": [
       "<table class=\"dataframe\">\n",
       "<caption>A data.frame: 6 × 5</caption>\n",
       "<thead>\n",
       "\t<tr><th></th><th scope=col>Reichweite</th><th scope=col>Anz_Zylinder</th><th scope=col>Hubraum</th><th scope=col>PS</th><th scope=col>Getriebe</th></tr>\n",
       "\t<tr><th></th><th scope=col>&lt;dbl&gt;</th><th scope=col>&lt;fct&gt;</th><th scope=col>&lt;dbl&gt;</th><th scope=col>&lt;dbl&gt;</th><th scope=col>&lt;fct&gt;</th></tr>\n",
       "</thead>\n",
       "<tbody>\n",
       "\t<tr><th scope=row>Mazda RX4</th><td>21.0</td><td>6</td><td>160</td><td>110</td><td>Manuell  </td></tr>\n",
       "\t<tr><th scope=row>Mazda RX4 Wag</th><td>21.0</td><td>6</td><td>160</td><td>110</td><td>Manuell  </td></tr>\n",
       "\t<tr><th scope=row>Datsun 710</th><td>22.8</td><td>4</td><td>108</td><td> 93</td><td>Manuell  </td></tr>\n",
       "\t<tr><th scope=row>Hornet 4 Drive</th><td>21.4</td><td>6</td><td>258</td><td>110</td><td>Automatik</td></tr>\n",
       "\t<tr><th scope=row>Hornet Sportabout</th><td>18.7</td><td>8</td><td>360</td><td>175</td><td>Automatik</td></tr>\n",
       "\t<tr><th scope=row>Valiant</th><td>18.1</td><td>6</td><td>225</td><td>105</td><td>Automatik</td></tr>\n",
       "</tbody>\n",
       "</table>\n"
      ],
      "text/latex": [
       "A data.frame: 6 × 5\n",
       "\\begin{tabular}{r|lllll}\n",
       "  & Reichweite & Anz\\_Zylinder & Hubraum & PS & Getriebe\\\\\n",
       "  & <dbl> & <fct> & <dbl> & <dbl> & <fct>\\\\\n",
       "\\hline\n",
       "\tMazda RX4 & 21.0 & 6 & 160 & 110 & Manuell  \\\\\n",
       "\tMazda RX4 Wag & 21.0 & 6 & 160 & 110 & Manuell  \\\\\n",
       "\tDatsun 710 & 22.8 & 4 & 108 &  93 & Manuell  \\\\\n",
       "\tHornet 4 Drive & 21.4 & 6 & 258 & 110 & Automatik\\\\\n",
       "\tHornet Sportabout & 18.7 & 8 & 360 & 175 & Automatik\\\\\n",
       "\tValiant & 18.1 & 6 & 225 & 105 & Automatik\\\\\n",
       "\\end{tabular}\n"
      ],
      "text/markdown": [
       "\n",
       "A data.frame: 6 × 5\n",
       "\n",
       "| <!--/--> | Reichweite &lt;dbl&gt; | Anz_Zylinder &lt;fct&gt; | Hubraum &lt;dbl&gt; | PS &lt;dbl&gt; | Getriebe &lt;fct&gt; |\n",
       "|---|---|---|---|---|---|\n",
       "| Mazda RX4 | 21.0 | 6 | 160 | 110 | Manuell   |\n",
       "| Mazda RX4 Wag | 21.0 | 6 | 160 | 110 | Manuell   |\n",
       "| Datsun 710 | 22.8 | 4 | 108 |  93 | Manuell   |\n",
       "| Hornet 4 Drive | 21.4 | 6 | 258 | 110 | Automatik |\n",
       "| Hornet Sportabout | 18.7 | 8 | 360 | 175 | Automatik |\n",
       "| Valiant | 18.1 | 6 | 225 | 105 | Automatik |\n",
       "\n"
      ],
      "text/plain": [
       "                  Reichweite Anz_Zylinder Hubraum PS  Getriebe \n",
       "Mazda RX4         21.0       6            160     110 Manuell  \n",
       "Mazda RX4 Wag     21.0       6            160     110 Manuell  \n",
       "Datsun 710        22.8       4            108      93 Manuell  \n",
       "Hornet 4 Drive    21.4       6            258     110 Automatik\n",
       "Hornet Sportabout 18.7       8            360     175 Automatik\n",
       "Valiant           18.1       6            225     105 Automatik"
      ]
     },
     "metadata": {},
     "output_type": "display_data"
    }
   ],
   "source": [
    "mtcars2 %>%\n",
    "  select(Reichweite:PS, Getriebe) %>%\n",
    "  head()"
   ]
  },
  {
   "cell_type": "code",
   "execution_count": 23,
   "metadata": {
    "scrolled": false
   },
   "outputs": [
    {
     "data": {
      "text/html": [
       "<table class=\"dataframe\">\n",
       "<caption>A data.frame: 6 × 9</caption>\n",
       "<thead>\n",
       "\t<tr><th></th><th scope=col>Reichweite</th><th scope=col>Anz_Zylinder</th><th scope=col>PS</th><th scope=col>Hinterachse</th><th scope=col>Beschl.</th><th scope=col>Motorart</th><th scope=col>Getriebe</th><th scope=col>Anz_Gänge</th><th scope=col>Anz_Vergaser</th></tr>\n",
       "\t<tr><th></th><th scope=col>&lt;dbl&gt;</th><th scope=col>&lt;fct&gt;</th><th scope=col>&lt;dbl&gt;</th><th scope=col>&lt;dbl&gt;</th><th scope=col>&lt;dbl&gt;</th><th scope=col>&lt;fct&gt;</th><th scope=col>&lt;fct&gt;</th><th scope=col>&lt;fct&gt;</th><th scope=col>&lt;fct&gt;</th></tr>\n",
       "</thead>\n",
       "<tbody>\n",
       "\t<tr><th scope=row>Mazda RX4</th><td>21.0</td><td>6</td><td>110</td><td>3.90</td><td>16.46</td><td>V-shaped</td><td>Manuell  </td><td>4</td><td>4</td></tr>\n",
       "\t<tr><th scope=row>Mazda RX4 Wag</th><td>21.0</td><td>6</td><td>110</td><td>3.90</td><td>17.02</td><td>V-shaped</td><td>Manuell  </td><td>4</td><td>4</td></tr>\n",
       "\t<tr><th scope=row>Datsun 710</th><td>22.8</td><td>4</td><td> 93</td><td>3.85</td><td>18.61</td><td>Straight</td><td>Manuell  </td><td>4</td><td>1</td></tr>\n",
       "\t<tr><th scope=row>Hornet 4 Drive</th><td>21.4</td><td>6</td><td>110</td><td>3.08</td><td>19.44</td><td>Straight</td><td>Automatik</td><td>3</td><td>1</td></tr>\n",
       "\t<tr><th scope=row>Hornet Sportabout</th><td>18.7</td><td>8</td><td>175</td><td>3.15</td><td>17.02</td><td>V-shaped</td><td>Automatik</td><td>3</td><td>2</td></tr>\n",
       "\t<tr><th scope=row>Valiant</th><td>18.1</td><td>6</td><td>105</td><td>2.76</td><td>20.22</td><td>Straight</td><td>Automatik</td><td>3</td><td>1</td></tr>\n",
       "</tbody>\n",
       "</table>\n"
      ],
      "text/latex": [
       "A data.frame: 6 × 9\n",
       "\\begin{tabular}{r|lllllllll}\n",
       "  & Reichweite & Anz\\_Zylinder & PS & Hinterachse & Beschl. & Motorart & Getriebe & Anz\\_Gänge & Anz\\_Vergaser\\\\\n",
       "  & <dbl> & <fct> & <dbl> & <dbl> & <dbl> & <fct> & <fct> & <fct> & <fct>\\\\\n",
       "\\hline\n",
       "\tMazda RX4 & 21.0 & 6 & 110 & 3.90 & 16.46 & V-shaped & Manuell   & 4 & 4\\\\\n",
       "\tMazda RX4 Wag & 21.0 & 6 & 110 & 3.90 & 17.02 & V-shaped & Manuell   & 4 & 4\\\\\n",
       "\tDatsun 710 & 22.8 & 4 &  93 & 3.85 & 18.61 & Straight & Manuell   & 4 & 1\\\\\n",
       "\tHornet 4 Drive & 21.4 & 6 & 110 & 3.08 & 19.44 & Straight & Automatik & 3 & 1\\\\\n",
       "\tHornet Sportabout & 18.7 & 8 & 175 & 3.15 & 17.02 & V-shaped & Automatik & 3 & 2\\\\\n",
       "\tValiant & 18.1 & 6 & 105 & 2.76 & 20.22 & Straight & Automatik & 3 & 1\\\\\n",
       "\\end{tabular}\n"
      ],
      "text/markdown": [
       "\n",
       "A data.frame: 6 × 9\n",
       "\n",
       "| <!--/--> | Reichweite &lt;dbl&gt; | Anz_Zylinder &lt;fct&gt; | PS &lt;dbl&gt; | Hinterachse &lt;dbl&gt; | Beschl. &lt;dbl&gt; | Motorart &lt;fct&gt; | Getriebe &lt;fct&gt; | Anz_Gänge &lt;fct&gt; | Anz_Vergaser &lt;fct&gt; |\n",
       "|---|---|---|---|---|---|---|---|---|---|\n",
       "| Mazda RX4 | 21.0 | 6 | 110 | 3.90 | 16.46 | V-shaped | Manuell   | 4 | 4 |\n",
       "| Mazda RX4 Wag | 21.0 | 6 | 110 | 3.90 | 17.02 | V-shaped | Manuell   | 4 | 4 |\n",
       "| Datsun 710 | 22.8 | 4 |  93 | 3.85 | 18.61 | Straight | Manuell   | 4 | 1 |\n",
       "| Hornet 4 Drive | 21.4 | 6 | 110 | 3.08 | 19.44 | Straight | Automatik | 3 | 1 |\n",
       "| Hornet Sportabout | 18.7 | 8 | 175 | 3.15 | 17.02 | V-shaped | Automatik | 3 | 2 |\n",
       "| Valiant | 18.1 | 6 | 105 | 2.76 | 20.22 | Straight | Automatik | 3 | 1 |\n",
       "\n"
      ],
      "text/plain": [
       "                  Reichweite Anz_Zylinder PS  Hinterachse Beschl. Motorart\n",
       "Mazda RX4         21.0       6            110 3.90        16.46   V-shaped\n",
       "Mazda RX4 Wag     21.0       6            110 3.90        17.02   V-shaped\n",
       "Datsun 710        22.8       4             93 3.85        18.61   Straight\n",
       "Hornet 4 Drive    21.4       6            110 3.08        19.44   Straight\n",
       "Hornet Sportabout 18.7       8            175 3.15        17.02   V-shaped\n",
       "Valiant           18.1       6            105 2.76        20.22   Straight\n",
       "                  Getriebe  Anz_Gänge Anz_Vergaser\n",
       "Mazda RX4         Manuell   4         4           \n",
       "Mazda RX4 Wag     Manuell   4         4           \n",
       "Datsun 710        Manuell   4         1           \n",
       "Hornet 4 Drive    Automatik 3         1           \n",
       "Hornet Sportabout Automatik 3         2           \n",
       "Valiant           Automatik 3         1           "
      ]
     },
     "metadata": {},
     "output_type": "display_data"
    }
   ],
   "source": [
    "mtcars2 %>%\n",
    "  select(-Hubraum,-Gewicht) %>%\n",
    "  head()"
   ]
  },
  {
   "cell_type": "markdown",
   "metadata": {},
   "source": [
    "`mutate()` Bearbeitung einzelner Variablen"
   ]
  },
  {
   "cell_type": "code",
   "execution_count": 24,
   "metadata": {
    "scrolled": true
   },
   "outputs": [
    {
     "data": {
      "text/html": [
       "<table class=\"dataframe\">\n",
       "<caption>A data.frame: 6 × 12</caption>\n",
       "<thead>\n",
       "\t<tr><th></th><th scope=col>Reichweite</th><th scope=col>Anz_Zylinder</th><th scope=col>Hubraum</th><th scope=col>PS</th><th scope=col>Hinterachse</th><th scope=col>Gewicht</th><th scope=col>Beschl.</th><th scope=col>Motorart</th><th scope=col>Getriebe</th><th scope=col>Anz_Gänge</th><th scope=col>Anz_Vergaser</th><th scope=col>KW</th></tr>\n",
       "\t<tr><th></th><th scope=col>&lt;dbl&gt;</th><th scope=col>&lt;fct&gt;</th><th scope=col>&lt;dbl&gt;</th><th scope=col>&lt;dbl&gt;</th><th scope=col>&lt;dbl&gt;</th><th scope=col>&lt;dbl&gt;</th><th scope=col>&lt;dbl&gt;</th><th scope=col>&lt;fct&gt;</th><th scope=col>&lt;fct&gt;</th><th scope=col>&lt;fct&gt;</th><th scope=col>&lt;fct&gt;</th><th scope=col>&lt;dbl&gt;</th></tr>\n",
       "</thead>\n",
       "<tbody>\n",
       "\t<tr><th scope=row>Mazda RX4</th><td>21.0</td><td>6</td><td>160</td><td>110</td><td>3.90</td><td>2.620</td><td>16.46</td><td>V-shaped</td><td>Manuell  </td><td>4</td><td>4</td><td> 80.90496</td></tr>\n",
       "\t<tr><th scope=row>Mazda RX4 Wag</th><td>21.0</td><td>6</td><td>160</td><td>110</td><td>3.90</td><td>2.875</td><td>17.02</td><td>V-shaped</td><td>Manuell  </td><td>4</td><td>4</td><td> 80.90496</td></tr>\n",
       "\t<tr><th scope=row>Datsun 710</th><td>22.8</td><td>4</td><td>108</td><td> 93</td><td>3.85</td><td>2.320</td><td>18.61</td><td>Straight</td><td>Manuell  </td><td>4</td><td>1</td><td> 68.40147</td></tr>\n",
       "\t<tr><th scope=row>Hornet 4 Drive</th><td>21.4</td><td>6</td><td>258</td><td>110</td><td>3.08</td><td>3.215</td><td>19.44</td><td>Straight</td><td>Automatik</td><td>3</td><td>1</td><td> 80.90496</td></tr>\n",
       "\t<tr><th scope=row>Hornet Sportabout</th><td>18.7</td><td>8</td><td>360</td><td>175</td><td>3.15</td><td>3.440</td><td>17.02</td><td>V-shaped</td><td>Automatik</td><td>3</td><td>2</td><td>128.71243</td></tr>\n",
       "\t<tr><th scope=row>Valiant</th><td>18.1</td><td>6</td><td>225</td><td>105</td><td>2.76</td><td>3.460</td><td>20.22</td><td>Straight</td><td>Automatik</td><td>3</td><td>1</td><td> 77.22746</td></tr>\n",
       "</tbody>\n",
       "</table>\n"
      ],
      "text/latex": [
       "A data.frame: 6 × 12\n",
       "\\begin{tabular}{r|llllllllllll}\n",
       "  & Reichweite & Anz\\_Zylinder & Hubraum & PS & Hinterachse & Gewicht & Beschl. & Motorart & Getriebe & Anz\\_Gänge & Anz\\_Vergaser & KW\\\\\n",
       "  & <dbl> & <fct> & <dbl> & <dbl> & <dbl> & <dbl> & <dbl> & <fct> & <fct> & <fct> & <fct> & <dbl>\\\\\n",
       "\\hline\n",
       "\tMazda RX4 & 21.0 & 6 & 160 & 110 & 3.90 & 2.620 & 16.46 & V-shaped & Manuell   & 4 & 4 &  80.90496\\\\\n",
       "\tMazda RX4 Wag & 21.0 & 6 & 160 & 110 & 3.90 & 2.875 & 17.02 & V-shaped & Manuell   & 4 & 4 &  80.90496\\\\\n",
       "\tDatsun 710 & 22.8 & 4 & 108 &  93 & 3.85 & 2.320 & 18.61 & Straight & Manuell   & 4 & 1 &  68.40147\\\\\n",
       "\tHornet 4 Drive & 21.4 & 6 & 258 & 110 & 3.08 & 3.215 & 19.44 & Straight & Automatik & 3 & 1 &  80.90496\\\\\n",
       "\tHornet Sportabout & 18.7 & 8 & 360 & 175 & 3.15 & 3.440 & 17.02 & V-shaped & Automatik & 3 & 2 & 128.71243\\\\\n",
       "\tValiant & 18.1 & 6 & 225 & 105 & 2.76 & 3.460 & 20.22 & Straight & Automatik & 3 & 1 &  77.22746\\\\\n",
       "\\end{tabular}\n"
      ],
      "text/markdown": [
       "\n",
       "A data.frame: 6 × 12\n",
       "\n",
       "| <!--/--> | Reichweite &lt;dbl&gt; | Anz_Zylinder &lt;fct&gt; | Hubraum &lt;dbl&gt; | PS &lt;dbl&gt; | Hinterachse &lt;dbl&gt; | Gewicht &lt;dbl&gt; | Beschl. &lt;dbl&gt; | Motorart &lt;fct&gt; | Getriebe &lt;fct&gt; | Anz_Gänge &lt;fct&gt; | Anz_Vergaser &lt;fct&gt; | KW &lt;dbl&gt; |\n",
       "|---|---|---|---|---|---|---|---|---|---|---|---|---|\n",
       "| Mazda RX4 | 21.0 | 6 | 160 | 110 | 3.90 | 2.620 | 16.46 | V-shaped | Manuell   | 4 | 4 |  80.90496 |\n",
       "| Mazda RX4 Wag | 21.0 | 6 | 160 | 110 | 3.90 | 2.875 | 17.02 | V-shaped | Manuell   | 4 | 4 |  80.90496 |\n",
       "| Datsun 710 | 22.8 | 4 | 108 |  93 | 3.85 | 2.320 | 18.61 | Straight | Manuell   | 4 | 1 |  68.40147 |\n",
       "| Hornet 4 Drive | 21.4 | 6 | 258 | 110 | 3.08 | 3.215 | 19.44 | Straight | Automatik | 3 | 1 |  80.90496 |\n",
       "| Hornet Sportabout | 18.7 | 8 | 360 | 175 | 3.15 | 3.440 | 17.02 | V-shaped | Automatik | 3 | 2 | 128.71243 |\n",
       "| Valiant | 18.1 | 6 | 225 | 105 | 2.76 | 3.460 | 20.22 | Straight | Automatik | 3 | 1 |  77.22746 |\n",
       "\n"
      ],
      "text/plain": [
       "                  Reichweite Anz_Zylinder Hubraum PS  Hinterachse Gewicht\n",
       "Mazda RX4         21.0       6            160     110 3.90        2.620  \n",
       "Mazda RX4 Wag     21.0       6            160     110 3.90        2.875  \n",
       "Datsun 710        22.8       4            108      93 3.85        2.320  \n",
       "Hornet 4 Drive    21.4       6            258     110 3.08        3.215  \n",
       "Hornet Sportabout 18.7       8            360     175 3.15        3.440  \n",
       "Valiant           18.1       6            225     105 2.76        3.460  \n",
       "                  Beschl. Motorart Getriebe  Anz_Gänge Anz_Vergaser KW       \n",
       "Mazda RX4         16.46   V-shaped Manuell   4         4             80.90496\n",
       "Mazda RX4 Wag     17.02   V-shaped Manuell   4         4             80.90496\n",
       "Datsun 710        18.61   Straight Manuell   4         1             68.40147\n",
       "Hornet 4 Drive    19.44   Straight Automatik 3         1             80.90496\n",
       "Hornet Sportabout 17.02   V-shaped Automatik 3         2            128.71243\n",
       "Valiant           20.22   Straight Automatik 3         1             77.22746"
      ]
     },
     "metadata": {},
     "output_type": "display_data"
    }
   ],
   "source": [
    "mtcars2 %>%\n",
    "  mutate(KW = PS / 1.35962) %>%\n",
    "  head()"
   ]
  },
  {
   "cell_type": "markdown",
   "metadata": {},
   "source": [
    "`summarize()` Summation der Beobachtungen\n",
    "`group_by()` Gruppierung des Datensatz"
   ]
  },
  {
   "cell_type": "code",
   "execution_count": 25,
   "metadata": {
    "scrolled": false
   },
   "outputs": [
    {
     "data": {
      "text/html": [
       "<table class=\"dataframe\">\n",
       "<caption>A data.frame: 1 × 2</caption>\n",
       "<thead>\n",
       "\t<tr><th scope=col>Mittlere_Reichweite</th><th scope=col>Anzahl</th></tr>\n",
       "\t<tr><th scope=col>&lt;dbl&gt;</th><th scope=col>&lt;int&gt;</th></tr>\n",
       "</thead>\n",
       "<tbody>\n",
       "\t<tr><td>20.09062</td><td>32</td></tr>\n",
       "</tbody>\n",
       "</table>\n"
      ],
      "text/latex": [
       "A data.frame: 1 × 2\n",
       "\\begin{tabular}{ll}\n",
       " Mittlere\\_Reichweite & Anzahl\\\\\n",
       " <dbl> & <int>\\\\\n",
       "\\hline\n",
       "\t 20.09062 & 32\\\\\n",
       "\\end{tabular}\n"
      ],
      "text/markdown": [
       "\n",
       "A data.frame: 1 × 2\n",
       "\n",
       "| Mittlere_Reichweite &lt;dbl&gt; | Anzahl &lt;int&gt; |\n",
       "|---|---|\n",
       "| 20.09062 | 32 |\n",
       "\n"
      ],
      "text/plain": [
       "  Mittlere_Reichweite Anzahl\n",
       "1 20.09062            32    "
      ]
     },
     "metadata": {},
     "output_type": "display_data"
    }
   ],
   "source": [
    "mtcars2 %>% \n",
    "  summarize(Mittlere_Reichweite = mean(Reichweite), Anzahl = n())"
   ]
  },
  {
   "cell_type": "code",
   "execution_count": 26,
   "metadata": {
    "scrolled": true
   },
   "outputs": [
    {
     "data": {
      "text/html": [
       "<table class=\"dataframe\">\n",
       "<caption>A tibble: 3 × 3</caption>\n",
       "<thead>\n",
       "\t<tr><th scope=col>Anz_Zylinder</th><th scope=col>Mittlere_Reichweite</th><th scope=col>Anzahl</th></tr>\n",
       "\t<tr><th scope=col>&lt;fct&gt;</th><th scope=col>&lt;dbl&gt;</th><th scope=col>&lt;int&gt;</th></tr>\n",
       "</thead>\n",
       "<tbody>\n",
       "\t<tr><td>4</td><td>26.66364</td><td>11</td></tr>\n",
       "\t<tr><td>6</td><td>19.74286</td><td> 7</td></tr>\n",
       "\t<tr><td>8</td><td>15.10000</td><td>14</td></tr>\n",
       "</tbody>\n",
       "</table>\n"
      ],
      "text/latex": [
       "A tibble: 3 × 3\n",
       "\\begin{tabular}{lll}\n",
       " Anz\\_Zylinder & Mittlere\\_Reichweite & Anzahl\\\\\n",
       " <fct> & <dbl> & <int>\\\\\n",
       "\\hline\n",
       "\t 4 & 26.66364 & 11\\\\\n",
       "\t 6 & 19.74286 &  7\\\\\n",
       "\t 8 & 15.10000 & 14\\\\\n",
       "\\end{tabular}\n"
      ],
      "text/markdown": [
       "\n",
       "A tibble: 3 × 3\n",
       "\n",
       "| Anz_Zylinder &lt;fct&gt; | Mittlere_Reichweite &lt;dbl&gt; | Anzahl &lt;int&gt; |\n",
       "|---|---|---|\n",
       "| 4 | 26.66364 | 11 |\n",
       "| 6 | 19.74286 |  7 |\n",
       "| 8 | 15.10000 | 14 |\n",
       "\n"
      ],
      "text/plain": [
       "  Anz_Zylinder Mittlere_Reichweite Anzahl\n",
       "1 4            26.66364            11    \n",
       "2 6            19.74286             7    \n",
       "3 8            15.10000            14    "
      ]
     },
     "metadata": {},
     "output_type": "display_data"
    }
   ],
   "source": [
    "mtcars2 %>% \n",
    "  group_by(Anz_Zylinder) %>%\n",
    "  summarize(Mittlere_Reichweite = mean(Reichweite), Anzahl = n())"
   ]
  },
  {
   "cell_type": "code",
   "execution_count": 27,
   "metadata": {
    "scrolled": true
   },
   "outputs": [
    {
     "name": "stderr",
     "output_type": "stream",
     "text": [
      "`summarise()` has grouped output by 'Anz_Zylinder'. You can override using the `.groups` argument.\n",
      "\n"
     ]
    },
    {
     "data": {
      "text/html": [
       "<table class=\"dataframe\">\n",
       "<caption>A grouped_df: 6 × 4</caption>\n",
       "<thead>\n",
       "\t<tr><th scope=col>Anz_Zylinder</th><th scope=col>Getriebe</th><th scope=col>Mittlere_Reichweite</th><th scope=col>Anzahl</th></tr>\n",
       "\t<tr><th scope=col>&lt;fct&gt;</th><th scope=col>&lt;fct&gt;</th><th scope=col>&lt;dbl&gt;</th><th scope=col>&lt;int&gt;</th></tr>\n",
       "</thead>\n",
       "<tbody>\n",
       "\t<tr><td>4</td><td>Automatik</td><td>22.90000</td><td> 3</td></tr>\n",
       "\t<tr><td>4</td><td>Manuell  </td><td>28.07500</td><td> 8</td></tr>\n",
       "\t<tr><td>6</td><td>Automatik</td><td>19.12500</td><td> 4</td></tr>\n",
       "\t<tr><td>6</td><td>Manuell  </td><td>20.56667</td><td> 3</td></tr>\n",
       "\t<tr><td>8</td><td>Automatik</td><td>15.05000</td><td>12</td></tr>\n",
       "\t<tr><td>8</td><td>Manuell  </td><td>15.40000</td><td> 2</td></tr>\n",
       "</tbody>\n",
       "</table>\n"
      ],
      "text/latex": [
       "A grouped\\_df: 6 × 4\n",
       "\\begin{tabular}{llll}\n",
       " Anz\\_Zylinder & Getriebe & Mittlere\\_Reichweite & Anzahl\\\\\n",
       " <fct> & <fct> & <dbl> & <int>\\\\\n",
       "\\hline\n",
       "\t 4 & Automatik & 22.90000 &  3\\\\\n",
       "\t 4 & Manuell   & 28.07500 &  8\\\\\n",
       "\t 6 & Automatik & 19.12500 &  4\\\\\n",
       "\t 6 & Manuell   & 20.56667 &  3\\\\\n",
       "\t 8 & Automatik & 15.05000 & 12\\\\\n",
       "\t 8 & Manuell   & 15.40000 &  2\\\\\n",
       "\\end{tabular}\n"
      ],
      "text/markdown": [
       "\n",
       "A grouped_df: 6 × 4\n",
       "\n",
       "| Anz_Zylinder &lt;fct&gt; | Getriebe &lt;fct&gt; | Mittlere_Reichweite &lt;dbl&gt; | Anzahl &lt;int&gt; |\n",
       "|---|---|---|---|\n",
       "| 4 | Automatik | 22.90000 |  3 |\n",
       "| 4 | Manuell   | 28.07500 |  8 |\n",
       "| 6 | Automatik | 19.12500 |  4 |\n",
       "| 6 | Manuell   | 20.56667 |  3 |\n",
       "| 8 | Automatik | 15.05000 | 12 |\n",
       "| 8 | Manuell   | 15.40000 |  2 |\n",
       "\n"
      ],
      "text/plain": [
       "  Anz_Zylinder Getriebe  Mittlere_Reichweite Anzahl\n",
       "1 4            Automatik 22.90000             3    \n",
       "2 4            Manuell   28.07500             8    \n",
       "3 6            Automatik 19.12500             4    \n",
       "4 6            Manuell   20.56667             3    \n",
       "5 8            Automatik 15.05000            12    \n",
       "6 8            Manuell   15.40000             2    "
      ]
     },
     "metadata": {},
     "output_type": "display_data"
    }
   ],
   "source": [
    "mtcars2 %>% \n",
    "  group_by(Anz_Zylinder, Getriebe) %>%\n",
    "  summarize(Mittlere_Reichweite = mean(Reichweite), Anzahl = n())"
   ]
  },
  {
   "cell_type": "code",
   "execution_count": 28,
   "metadata": {
    "scrolled": true
   },
   "outputs": [
    {
     "data": {
      "text/html": [
       "<table class=\"dataframe\">\n",
       "<caption>A tibble: 6 × 4</caption>\n",
       "<thead>\n",
       "\t<tr><th scope=col>Anz_Zylinder</th><th scope=col>Getriebe</th><th scope=col>Mittlere_Reichweite</th><th scope=col>Anzahl</th></tr>\n",
       "\t<tr><th scope=col>&lt;fct&gt;</th><th scope=col>&lt;fct&gt;</th><th scope=col>&lt;dbl&gt;</th><th scope=col>&lt;int&gt;</th></tr>\n",
       "</thead>\n",
       "<tbody>\n",
       "\t<tr><td>4</td><td>Automatik</td><td>22.90000</td><td> 3</td></tr>\n",
       "\t<tr><td>4</td><td>Manuell  </td><td>28.07500</td><td> 8</td></tr>\n",
       "\t<tr><td>6</td><td>Automatik</td><td>19.12500</td><td> 4</td></tr>\n",
       "\t<tr><td>6</td><td>Manuell  </td><td>20.56667</td><td> 3</td></tr>\n",
       "\t<tr><td>8</td><td>Automatik</td><td>15.05000</td><td>12</td></tr>\n",
       "\t<tr><td>8</td><td>Manuell  </td><td>15.40000</td><td> 2</td></tr>\n",
       "</tbody>\n",
       "</table>\n"
      ],
      "text/latex": [
       "A tibble: 6 × 4\n",
       "\\begin{tabular}{llll}\n",
       " Anz\\_Zylinder & Getriebe & Mittlere\\_Reichweite & Anzahl\\\\\n",
       " <fct> & <fct> & <dbl> & <int>\\\\\n",
       "\\hline\n",
       "\t 4 & Automatik & 22.90000 &  3\\\\\n",
       "\t 4 & Manuell   & 28.07500 &  8\\\\\n",
       "\t 6 & Automatik & 19.12500 &  4\\\\\n",
       "\t 6 & Manuell   & 20.56667 &  3\\\\\n",
       "\t 8 & Automatik & 15.05000 & 12\\\\\n",
       "\t 8 & Manuell   & 15.40000 &  2\\\\\n",
       "\\end{tabular}\n"
      ],
      "text/markdown": [
       "\n",
       "A tibble: 6 × 4\n",
       "\n",
       "| Anz_Zylinder &lt;fct&gt; | Getriebe &lt;fct&gt; | Mittlere_Reichweite &lt;dbl&gt; | Anzahl &lt;int&gt; |\n",
       "|---|---|---|---|\n",
       "| 4 | Automatik | 22.90000 |  3 |\n",
       "| 4 | Manuell   | 28.07500 |  8 |\n",
       "| 6 | Automatik | 19.12500 |  4 |\n",
       "| 6 | Manuell   | 20.56667 |  3 |\n",
       "| 8 | Automatik | 15.05000 | 12 |\n",
       "| 8 | Manuell   | 15.40000 |  2 |\n",
       "\n"
      ],
      "text/plain": [
       "  Anz_Zylinder Getriebe  Mittlere_Reichweite Anzahl\n",
       "1 4            Automatik 22.90000             3    \n",
       "2 4            Manuell   28.07500             8    \n",
       "3 6            Automatik 19.12500             4    \n",
       "4 6            Manuell   20.56667             3    \n",
       "5 8            Automatik 15.05000            12    \n",
       "6 8            Manuell   15.40000             2    "
      ]
     },
     "metadata": {},
     "output_type": "display_data"
    }
   ],
   "source": [
    "mtcars2 %>% \n",
    "  group_by(Anz_Zylinder, Getriebe) %>%\n",
    "  summarize(Mittlere_Reichweite = mean(Reichweite), Anzahl = n(), .groups = 'drop')"
   ]
  },
  {
   "cell_type": "markdown",
   "metadata": {},
   "source": [
    "`arrange()` Sortierung des Datensatzes"
   ]
  },
  {
   "cell_type": "code",
   "execution_count": 29,
   "metadata": {},
   "outputs": [
    {
     "data": {
      "text/html": [
       "<table class=\"dataframe\">\n",
       "<caption>A data.frame: 6 × 11</caption>\n",
       "<thead>\n",
       "\t<tr><th></th><th scope=col>Reichweite</th><th scope=col>Anz_Zylinder</th><th scope=col>Hubraum</th><th scope=col>PS</th><th scope=col>Hinterachse</th><th scope=col>Gewicht</th><th scope=col>Beschl.</th><th scope=col>Motorart</th><th scope=col>Getriebe</th><th scope=col>Anz_Gänge</th><th scope=col>Anz_Vergaser</th></tr>\n",
       "\t<tr><th></th><th scope=col>&lt;dbl&gt;</th><th scope=col>&lt;fct&gt;</th><th scope=col>&lt;dbl&gt;</th><th scope=col>&lt;dbl&gt;</th><th scope=col>&lt;dbl&gt;</th><th scope=col>&lt;dbl&gt;</th><th scope=col>&lt;dbl&gt;</th><th scope=col>&lt;fct&gt;</th><th scope=col>&lt;fct&gt;</th><th scope=col>&lt;fct&gt;</th><th scope=col>&lt;fct&gt;</th></tr>\n",
       "</thead>\n",
       "<tbody>\n",
       "\t<tr><th scope=row>Cadillac Fleetwood</th><td>10.4</td><td>8</td><td>472</td><td>205</td><td>2.93</td><td>5.250</td><td>17.98</td><td>V-shaped</td><td>Automatik</td><td>3</td><td>4</td></tr>\n",
       "\t<tr><th scope=row>Lincoln Continental</th><td>10.4</td><td>8</td><td>460</td><td>215</td><td>3.00</td><td>5.424</td><td>17.82</td><td>V-shaped</td><td>Automatik</td><td>3</td><td>4</td></tr>\n",
       "\t<tr><th scope=row>Camaro Z28</th><td>13.3</td><td>8</td><td>350</td><td>245</td><td>3.73</td><td>3.840</td><td>15.41</td><td>V-shaped</td><td>Automatik</td><td>3</td><td>4</td></tr>\n",
       "\t<tr><th scope=row>Duster 360</th><td>14.3</td><td>8</td><td>360</td><td>245</td><td>3.21</td><td>3.570</td><td>15.84</td><td>V-shaped</td><td>Automatik</td><td>3</td><td>4</td></tr>\n",
       "\t<tr><th scope=row>Chrysler Imperial</th><td>14.7</td><td>8</td><td>440</td><td>230</td><td>3.23</td><td>5.345</td><td>17.42</td><td>V-shaped</td><td>Automatik</td><td>3</td><td>4</td></tr>\n",
       "\t<tr><th scope=row>Maserati Bora</th><td>15.0</td><td>8</td><td>301</td><td>335</td><td>3.54</td><td>3.570</td><td>14.60</td><td>V-shaped</td><td>Manuell  </td><td>5</td><td>8</td></tr>\n",
       "</tbody>\n",
       "</table>\n"
      ],
      "text/latex": [
       "A data.frame: 6 × 11\n",
       "\\begin{tabular}{r|lllllllllll}\n",
       "  & Reichweite & Anz\\_Zylinder & Hubraum & PS & Hinterachse & Gewicht & Beschl. & Motorart & Getriebe & Anz\\_Gänge & Anz\\_Vergaser\\\\\n",
       "  & <dbl> & <fct> & <dbl> & <dbl> & <dbl> & <dbl> & <dbl> & <fct> & <fct> & <fct> & <fct>\\\\\n",
       "\\hline\n",
       "\tCadillac Fleetwood & 10.4 & 8 & 472 & 205 & 2.93 & 5.250 & 17.98 & V-shaped & Automatik & 3 & 4\\\\\n",
       "\tLincoln Continental & 10.4 & 8 & 460 & 215 & 3.00 & 5.424 & 17.82 & V-shaped & Automatik & 3 & 4\\\\\n",
       "\tCamaro Z28 & 13.3 & 8 & 350 & 245 & 3.73 & 3.840 & 15.41 & V-shaped & Automatik & 3 & 4\\\\\n",
       "\tDuster 360 & 14.3 & 8 & 360 & 245 & 3.21 & 3.570 & 15.84 & V-shaped & Automatik & 3 & 4\\\\\n",
       "\tChrysler Imperial & 14.7 & 8 & 440 & 230 & 3.23 & 5.345 & 17.42 & V-shaped & Automatik & 3 & 4\\\\\n",
       "\tMaserati Bora & 15.0 & 8 & 301 & 335 & 3.54 & 3.570 & 14.60 & V-shaped & Manuell   & 5 & 8\\\\\n",
       "\\end{tabular}\n"
      ],
      "text/markdown": [
       "\n",
       "A data.frame: 6 × 11\n",
       "\n",
       "| <!--/--> | Reichweite &lt;dbl&gt; | Anz_Zylinder &lt;fct&gt; | Hubraum &lt;dbl&gt; | PS &lt;dbl&gt; | Hinterachse &lt;dbl&gt; | Gewicht &lt;dbl&gt; | Beschl. &lt;dbl&gt; | Motorart &lt;fct&gt; | Getriebe &lt;fct&gt; | Anz_Gänge &lt;fct&gt; | Anz_Vergaser &lt;fct&gt; |\n",
       "|---|---|---|---|---|---|---|---|---|---|---|---|\n",
       "| Cadillac Fleetwood | 10.4 | 8 | 472 | 205 | 2.93 | 5.250 | 17.98 | V-shaped | Automatik | 3 | 4 |\n",
       "| Lincoln Continental | 10.4 | 8 | 460 | 215 | 3.00 | 5.424 | 17.82 | V-shaped | Automatik | 3 | 4 |\n",
       "| Camaro Z28 | 13.3 | 8 | 350 | 245 | 3.73 | 3.840 | 15.41 | V-shaped | Automatik | 3 | 4 |\n",
       "| Duster 360 | 14.3 | 8 | 360 | 245 | 3.21 | 3.570 | 15.84 | V-shaped | Automatik | 3 | 4 |\n",
       "| Chrysler Imperial | 14.7 | 8 | 440 | 230 | 3.23 | 5.345 | 17.42 | V-shaped | Automatik | 3 | 4 |\n",
       "| Maserati Bora | 15.0 | 8 | 301 | 335 | 3.54 | 3.570 | 14.60 | V-shaped | Manuell   | 5 | 8 |\n",
       "\n"
      ],
      "text/plain": [
       "                    Reichweite Anz_Zylinder Hubraum PS  Hinterachse Gewicht\n",
       "Cadillac Fleetwood  10.4       8            472     205 2.93        5.250  \n",
       "Lincoln Continental 10.4       8            460     215 3.00        5.424  \n",
       "Camaro Z28          13.3       8            350     245 3.73        3.840  \n",
       "Duster 360          14.3       8            360     245 3.21        3.570  \n",
       "Chrysler Imperial   14.7       8            440     230 3.23        5.345  \n",
       "Maserati Bora       15.0       8            301     335 3.54        3.570  \n",
       "                    Beschl. Motorart Getriebe  Anz_Gänge Anz_Vergaser\n",
       "Cadillac Fleetwood  17.98   V-shaped Automatik 3         4           \n",
       "Lincoln Continental 17.82   V-shaped Automatik 3         4           \n",
       "Camaro Z28          15.41   V-shaped Automatik 3         4           \n",
       "Duster 360          15.84   V-shaped Automatik 3         4           \n",
       "Chrysler Imperial   17.42   V-shaped Automatik 3         4           \n",
       "Maserati Bora       14.60   V-shaped Manuell   5         8           "
      ]
     },
     "metadata": {},
     "output_type": "display_data"
    }
   ],
   "source": [
    "mtcars2 %>%\n",
    "  arrange(Reichweite) %>%\n",
    "  head()"
   ]
  },
  {
   "cell_type": "code",
   "execution_count": 30,
   "metadata": {
    "scrolled": true
   },
   "outputs": [
    {
     "data": {
      "text/html": [
       "<table class=\"dataframe\">\n",
       "<caption>A data.frame: 6 × 11</caption>\n",
       "<thead>\n",
       "\t<tr><th></th><th scope=col>Reichweite</th><th scope=col>Anz_Zylinder</th><th scope=col>Hubraum</th><th scope=col>PS</th><th scope=col>Hinterachse</th><th scope=col>Gewicht</th><th scope=col>Beschl.</th><th scope=col>Motorart</th><th scope=col>Getriebe</th><th scope=col>Anz_Gänge</th><th scope=col>Anz_Vergaser</th></tr>\n",
       "\t<tr><th></th><th scope=col>&lt;dbl&gt;</th><th scope=col>&lt;fct&gt;</th><th scope=col>&lt;dbl&gt;</th><th scope=col>&lt;dbl&gt;</th><th scope=col>&lt;dbl&gt;</th><th scope=col>&lt;dbl&gt;</th><th scope=col>&lt;dbl&gt;</th><th scope=col>&lt;fct&gt;</th><th scope=col>&lt;fct&gt;</th><th scope=col>&lt;fct&gt;</th><th scope=col>&lt;fct&gt;</th></tr>\n",
       "</thead>\n",
       "<tbody>\n",
       "\t<tr><th scope=row>Toyota Corolla</th><td>33.9</td><td>4</td><td> 71.1</td><td> 65</td><td>4.22</td><td>1.835</td><td>19.90</td><td>Straight</td><td>Manuell</td><td>4</td><td>1</td></tr>\n",
       "\t<tr><th scope=row>Fiat 128</th><td>32.4</td><td>4</td><td> 78.7</td><td> 66</td><td>4.08</td><td>2.200</td><td>19.47</td><td>Straight</td><td>Manuell</td><td>4</td><td>1</td></tr>\n",
       "\t<tr><th scope=row>Honda Civic</th><td>30.4</td><td>4</td><td> 75.7</td><td> 52</td><td>4.93</td><td>1.615</td><td>18.52</td><td>Straight</td><td>Manuell</td><td>4</td><td>2</td></tr>\n",
       "\t<tr><th scope=row>Lotus Europa</th><td>30.4</td><td>4</td><td> 95.1</td><td>113</td><td>3.77</td><td>1.513</td><td>16.90</td><td>Straight</td><td>Manuell</td><td>5</td><td>2</td></tr>\n",
       "\t<tr><th scope=row>Fiat X1-9</th><td>27.3</td><td>4</td><td> 79.0</td><td> 66</td><td>4.08</td><td>1.935</td><td>18.90</td><td>Straight</td><td>Manuell</td><td>4</td><td>1</td></tr>\n",
       "\t<tr><th scope=row>Porsche 914-2</th><td>26.0</td><td>4</td><td>120.3</td><td> 91</td><td>4.43</td><td>2.140</td><td>16.70</td><td>V-shaped</td><td>Manuell</td><td>5</td><td>2</td></tr>\n",
       "</tbody>\n",
       "</table>\n"
      ],
      "text/latex": [
       "A data.frame: 6 × 11\n",
       "\\begin{tabular}{r|lllllllllll}\n",
       "  & Reichweite & Anz\\_Zylinder & Hubraum & PS & Hinterachse & Gewicht & Beschl. & Motorart & Getriebe & Anz\\_Gänge & Anz\\_Vergaser\\\\\n",
       "  & <dbl> & <fct> & <dbl> & <dbl> & <dbl> & <dbl> & <dbl> & <fct> & <fct> & <fct> & <fct>\\\\\n",
       "\\hline\n",
       "\tToyota Corolla & 33.9 & 4 &  71.1 &  65 & 4.22 & 1.835 & 19.90 & Straight & Manuell & 4 & 1\\\\\n",
       "\tFiat 128 & 32.4 & 4 &  78.7 &  66 & 4.08 & 2.200 & 19.47 & Straight & Manuell & 4 & 1\\\\\n",
       "\tHonda Civic & 30.4 & 4 &  75.7 &  52 & 4.93 & 1.615 & 18.52 & Straight & Manuell & 4 & 2\\\\\n",
       "\tLotus Europa & 30.4 & 4 &  95.1 & 113 & 3.77 & 1.513 & 16.90 & Straight & Manuell & 5 & 2\\\\\n",
       "\tFiat X1-9 & 27.3 & 4 &  79.0 &  66 & 4.08 & 1.935 & 18.90 & Straight & Manuell & 4 & 1\\\\\n",
       "\tPorsche 914-2 & 26.0 & 4 & 120.3 &  91 & 4.43 & 2.140 & 16.70 & V-shaped & Manuell & 5 & 2\\\\\n",
       "\\end{tabular}\n"
      ],
      "text/markdown": [
       "\n",
       "A data.frame: 6 × 11\n",
       "\n",
       "| <!--/--> | Reichweite &lt;dbl&gt; | Anz_Zylinder &lt;fct&gt; | Hubraum &lt;dbl&gt; | PS &lt;dbl&gt; | Hinterachse &lt;dbl&gt; | Gewicht &lt;dbl&gt; | Beschl. &lt;dbl&gt; | Motorart &lt;fct&gt; | Getriebe &lt;fct&gt; | Anz_Gänge &lt;fct&gt; | Anz_Vergaser &lt;fct&gt; |\n",
       "|---|---|---|---|---|---|---|---|---|---|---|---|\n",
       "| Toyota Corolla | 33.9 | 4 |  71.1 |  65 | 4.22 | 1.835 | 19.90 | Straight | Manuell | 4 | 1 |\n",
       "| Fiat 128 | 32.4 | 4 |  78.7 |  66 | 4.08 | 2.200 | 19.47 | Straight | Manuell | 4 | 1 |\n",
       "| Honda Civic | 30.4 | 4 |  75.7 |  52 | 4.93 | 1.615 | 18.52 | Straight | Manuell | 4 | 2 |\n",
       "| Lotus Europa | 30.4 | 4 |  95.1 | 113 | 3.77 | 1.513 | 16.90 | Straight | Manuell | 5 | 2 |\n",
       "| Fiat X1-9 | 27.3 | 4 |  79.0 |  66 | 4.08 | 1.935 | 18.90 | Straight | Manuell | 4 | 1 |\n",
       "| Porsche 914-2 | 26.0 | 4 | 120.3 |  91 | 4.43 | 2.140 | 16.70 | V-shaped | Manuell | 5 | 2 |\n",
       "\n"
      ],
      "text/plain": [
       "               Reichweite Anz_Zylinder Hubraum PS  Hinterachse Gewicht Beschl.\n",
       "Toyota Corolla 33.9       4             71.1    65 4.22        1.835   19.90  \n",
       "Fiat 128       32.4       4             78.7    66 4.08        2.200   19.47  \n",
       "Honda Civic    30.4       4             75.7    52 4.93        1.615   18.52  \n",
       "Lotus Europa   30.4       4             95.1   113 3.77        1.513   16.90  \n",
       "Fiat X1-9      27.3       4             79.0    66 4.08        1.935   18.90  \n",
       "Porsche 914-2  26.0       4            120.3    91 4.43        2.140   16.70  \n",
       "               Motorart Getriebe Anz_Gänge Anz_Vergaser\n",
       "Toyota Corolla Straight Manuell  4         1           \n",
       "Fiat 128       Straight Manuell  4         1           \n",
       "Honda Civic    Straight Manuell  4         2           \n",
       "Lotus Europa   Straight Manuell  5         2           \n",
       "Fiat X1-9      Straight Manuell  4         1           \n",
       "Porsche 914-2  V-shaped Manuell  5         2           "
      ]
     },
     "metadata": {},
     "output_type": "display_data"
    }
   ],
   "source": [
    "mtcars2 %>%\n",
    "  arrange(desc(Reichweite)) %>%  # Sorteirung in absteigender Reihenfolge\n",
    "  head()"
   ]
  },
  {
   "cell_type": "markdown",
   "metadata": {},
   "source": [
    "Alle Funktionen zusammen"
   ]
  },
  {
   "cell_type": "code",
   "execution_count": 31,
   "metadata": {},
   "outputs": [
    {
     "data": {
      "text/html": [
       "<table class=\"dataframe\">\n",
       "<caption>A tibble: 2 × 4</caption>\n",
       "<thead>\n",
       "\t<tr><th scope=col>Anz_Zylinder</th><th scope=col>Getriebe</th><th scope=col>Mittlere_Reichweite</th><th scope=col>Anzahl</th></tr>\n",
       "\t<tr><th scope=col>&lt;fct&gt;</th><th scope=col>&lt;fct&gt;</th><th scope=col>&lt;dbl&gt;</th><th scope=col>&lt;int&gt;</th></tr>\n",
       "</thead>\n",
       "<tbody>\n",
       "\t<tr><td>4</td><td>Manuell  </td><td>28.075</td><td> 8</td></tr>\n",
       "\t<tr><td>8</td><td>Automatik</td><td>15.050</td><td>12</td></tr>\n",
       "</tbody>\n",
       "</table>\n"
      ],
      "text/latex": [
       "A tibble: 2 × 4\n",
       "\\begin{tabular}{llll}\n",
       " Anz\\_Zylinder & Getriebe & Mittlere\\_Reichweite & Anzahl\\\\\n",
       " <fct> & <fct> & <dbl> & <int>\\\\\n",
       "\\hline\n",
       "\t 4 & Manuell   & 28.075 &  8\\\\\n",
       "\t 8 & Automatik & 15.050 & 12\\\\\n",
       "\\end{tabular}\n"
      ],
      "text/markdown": [
       "\n",
       "A tibble: 2 × 4\n",
       "\n",
       "| Anz_Zylinder &lt;fct&gt; | Getriebe &lt;fct&gt; | Mittlere_Reichweite &lt;dbl&gt; | Anzahl &lt;int&gt; |\n",
       "|---|---|---|---|\n",
       "| 4 | Manuell   | 28.075 |  8 |\n",
       "| 8 | Automatik | 15.050 | 12 |\n",
       "\n"
      ],
      "text/plain": [
       "  Anz_Zylinder Getriebe  Mittlere_Reichweite Anzahl\n",
       "1 4            Manuell   28.075               8    \n",
       "2 8            Automatik 15.050              12    "
      ]
     },
     "metadata": {},
     "output_type": "display_data"
    }
   ],
   "source": [
    "mtcars2 %>%\n",
    "  mutate(KW = PS / 1.35962) %>%\n",
    "  group_by(Anz_Zylinder, Getriebe) %>%\n",
    "  summarize(Mittlere_Reichweite = mean(Reichweite), Anzahl = n(), .groups = 'drop') %>%\n",
    "  filter(Anzahl > 5)"
   ]
  }
 ],
 "metadata": {
  "kernelspec": {
   "display_name": "R",
   "language": "R",
   "name": "ir"
  },
  "language_info": {
   "codemirror_mode": "r",
   "file_extension": ".r",
   "mimetype": "text/x-r-source",
   "name": "R",
   "pygments_lexer": "r",
   "version": "4.1.2"
  }
 },
 "nbformat": 4,
 "nbformat_minor": 4
}
